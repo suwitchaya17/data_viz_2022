{
  "nbformat": 4,
  "nbformat_minor": 0,
  "metadata": {
    "colab": {
      "name": "Dashboard project.ipynb",
      "provenance": [],
      "authorship_tag": "ABX9TyP6kc1CBNFTln8V9rru4oCq",
      "include_colab_link": true
    },
    "kernelspec": {
      "name": "python3",
      "display_name": "Python 3"
    },
    "language_info": {
      "name": "python"
    }
  },
  "cells": [
    {
      "cell_type": "markdown",
      "metadata": {
        "id": "view-in-github",
        "colab_type": "text"
      },
      "source": [
        "<a href=\"https://colab.research.google.com/github/suwitchaya17/data_viz_2022/blob/main/Dashboard_project.ipynb\" target=\"_parent\"><img src=\"https://colab.research.google.com/assets/colab-badge.svg\" alt=\"Open In Colab\"/></a>"
      ]
    },
    {
      "cell_type": "markdown",
      "source": [
        "#เตรียมข้อมูล"
      ],
      "metadata": {
        "id": "uTqDkqAT63hn"
      }
    },
    {
      "cell_type": "markdown",
      "source": [
        "#ข้อมูล Data Covid"
      ],
      "metadata": {
        "id": "MU8JmNfV68dm"
      }
    },
    {
      "cell_type": "code",
      "execution_count": 1,
      "metadata": {
        "id": "gVnvs1CR0p76"
      },
      "outputs": [],
      "source": [
        "import pandas as pd  #ทำงานกับข้อมูลลักษณะตาราง\n",
        "import os  #จัดการไฟล์และ path"
      ]
    },
    {
      "cell_type": "code",
      "source": [
        "from google.colab import drive  #เชื่อม google drive\n",
        "drive.mount('/content/drive')\n",
        "path = '/content/drive/My Drive/covid_data'   #pathจะชี้ไปยังโฟล์เดอร์"
      ],
      "metadata": {
        "colab": {
          "base_uri": "https://localhost:8080/"
        },
        "id": "lHpLLd6M86Cs",
        "outputId": "a0c5d19c-435d-4643-b8b2-361c669d3aad"
      },
      "execution_count": 3,
      "outputs": [
        {
          "output_type": "stream",
          "name": "stdout",
          "text": [
            "Drive already mounted at /content/drive; to attempt to forcibly remount, call drive.mount(\"/content/drive\", force_remount=True).\n"
          ]
        }
      ]
    },
    {
      "cell_type": "code",
      "source": [
        "data_file_path = os.path.join(path,'confirmed-cases.xlsx') #แล้วก็ชี้ไปที่ไฟล์\n",
        "print(data_file_path)"
      ],
      "metadata": {
        "colab": {
          "base_uri": "https://localhost:8080/"
        },
        "id": "4hEEJBBu88l0",
        "outputId": "b0749f26-7750-4ef6-c75e-8661b9bfdc33"
      },
      "execution_count": 4,
      "outputs": [
        {
          "output_type": "stream",
          "name": "stdout",
          "text": [
            "/content/drive/My Drive/covid_data/confirmed-cases.xlsx\n"
          ]
        }
      ]
    },
    {
      "cell_type": "code",
      "source": [
        "data_covid = pd.read_excel(data_file_path)  #กำหนดตัวแปร data_covid เป็นข้อมูลของผู้ป่วยโควิด\n",
        "data_covid  #เรียกดูตารางของผู้ป่วยโควิด"
      ],
      "metadata": {
        "colab": {
          "base_uri": "https://localhost:8080/",
          "height": 502
        },
        "id": "nAajBmxT8-gW",
        "outputId": "7985593b-edab-4a3b-980f-37c51fdbfc09"
      },
      "execution_count": 5,
      "outputs": [
        {
          "output_type": "execute_result",
          "data": {
            "text/plain": [
              "           No. announce_date Notified date   sex   age Unit nationality  \\\n",
              "0            1    2020-01-12           NaT  หญิง  61.0   ปี       China   \n",
              "1            2    2020-01-17           NaT  หญิง  74.0   ปี       China   \n",
              "2            3    2020-01-22           NaT  หญิง  73.0   ปี    Thailand   \n",
              "3            4    2020-01-22           NaT   ชาย  68.0   ปี       China   \n",
              "4            5    2020-01-24           NaT  หญิง  66.0   ปี       China   \n",
              "...        ...           ...           ...   ...   ...  ...         ...   \n",
              "816984  816985    2021-08-11    2021-08-10  หญิง   8.0   ปี    Thailand   \n",
              "816985  816986    2021-08-11    2021-08-10   ชาย  14.0   ปี    Thailand   \n",
              "816986  816987    2021-08-11    2021-08-10   ชาย  59.0   ปี    Thailand   \n",
              "816987  816988    2021-08-11    2021-08-10  หญิง  34.0   ปี    Thailand   \n",
              "816988  816989    2021-08-11    2021-08-10  หญิง  19.0   ปี    Thailand   \n",
              "\n",
              "       province_of_isolation  \\\n",
              "0              กรุงเทพมหานคร   \n",
              "1              กรุงเทพมหานคร   \n",
              "2                     นครปฐม   \n",
              "3              กรุงเทพมหานคร   \n",
              "4                    นนทบุรี   \n",
              "...                      ...   \n",
              "816984               สระแก้ว   \n",
              "816985               สระแก้ว   \n",
              "816986               สระแก้ว   \n",
              "816987               สระแก้ว   \n",
              "816988               สระแก้ว   \n",
              "\n",
              "                                                     risk province_of_onset  \\\n",
              "0                        คนต่างชาติเดินทางมาจากต่างประเทศ     กรุงเทพมหานคร   \n",
              "1                        คนต่างชาติเดินทางมาจากต่างประเทศ     กรุงเทพมหานคร   \n",
              "2                        คนต่างชาติเดินทางมาจากต่างประเทศ            นครปฐม   \n",
              "3                        คนต่างชาติเดินทางมาจากต่างประเทศ     กรุงเทพมหานคร   \n",
              "4                        คนต่างชาติเดินทางมาจากต่างประเทศ     กรุงเทพมหานคร   \n",
              "...                                                   ...               ...   \n",
              "816984                               อยู่ระหว่างการสอบสวน           สระแก้ว   \n",
              "816985                               อยู่ระหว่างการสอบสวน           สระแก้ว   \n",
              "816986  อาชีพเสี่ยง เช่น ทำงานในสถานที่แออัด หรือทำงาน...           สระแก้ว   \n",
              "816987                                              อื่นๆ     กรุงเทพมหานคร   \n",
              "816988                                              อื่นๆ   พระนครศรีอยุธยา   \n",
              "\n",
              "       district_of_onset  \n",
              "0                    NaN  \n",
              "1                    NaN  \n",
              "2                  เมือง  \n",
              "3                    NaN  \n",
              "4                    NaN  \n",
              "...                  ...  \n",
              "816984           ตาพระยา  \n",
              "816985           ตาพระยา  \n",
              "816986        อรัญประเทศ  \n",
              "816987       บางขุนเทียน  \n",
              "816988             อุทัย  \n",
              "\n",
              "[816989 rows x 11 columns]"
            ],
            "text/html": [
              "\n",
              "  <div id=\"df-a788f0ac-9f27-4ab3-b1d2-ac1cbb49eaca\">\n",
              "    <div class=\"colab-df-container\">\n",
              "      <div>\n",
              "<style scoped>\n",
              "    .dataframe tbody tr th:only-of-type {\n",
              "        vertical-align: middle;\n",
              "    }\n",
              "\n",
              "    .dataframe tbody tr th {\n",
              "        vertical-align: top;\n",
              "    }\n",
              "\n",
              "    .dataframe thead th {\n",
              "        text-align: right;\n",
              "    }\n",
              "</style>\n",
              "<table border=\"1\" class=\"dataframe\">\n",
              "  <thead>\n",
              "    <tr style=\"text-align: right;\">\n",
              "      <th></th>\n",
              "      <th>No.</th>\n",
              "      <th>announce_date</th>\n",
              "      <th>Notified date</th>\n",
              "      <th>sex</th>\n",
              "      <th>age</th>\n",
              "      <th>Unit</th>\n",
              "      <th>nationality</th>\n",
              "      <th>province_of_isolation</th>\n",
              "      <th>risk</th>\n",
              "      <th>province_of_onset</th>\n",
              "      <th>district_of_onset</th>\n",
              "    </tr>\n",
              "  </thead>\n",
              "  <tbody>\n",
              "    <tr>\n",
              "      <th>0</th>\n",
              "      <td>1</td>\n",
              "      <td>2020-01-12</td>\n",
              "      <td>NaT</td>\n",
              "      <td>หญิง</td>\n",
              "      <td>61.0</td>\n",
              "      <td>ปี</td>\n",
              "      <td>China</td>\n",
              "      <td>กรุงเทพมหานคร</td>\n",
              "      <td>คนต่างชาติเดินทางมาจากต่างประเทศ</td>\n",
              "      <td>กรุงเทพมหานคร</td>\n",
              "      <td>NaN</td>\n",
              "    </tr>\n",
              "    <tr>\n",
              "      <th>1</th>\n",
              "      <td>2</td>\n",
              "      <td>2020-01-17</td>\n",
              "      <td>NaT</td>\n",
              "      <td>หญิง</td>\n",
              "      <td>74.0</td>\n",
              "      <td>ปี</td>\n",
              "      <td>China</td>\n",
              "      <td>กรุงเทพมหานคร</td>\n",
              "      <td>คนต่างชาติเดินทางมาจากต่างประเทศ</td>\n",
              "      <td>กรุงเทพมหานคร</td>\n",
              "      <td>NaN</td>\n",
              "    </tr>\n",
              "    <tr>\n",
              "      <th>2</th>\n",
              "      <td>3</td>\n",
              "      <td>2020-01-22</td>\n",
              "      <td>NaT</td>\n",
              "      <td>หญิง</td>\n",
              "      <td>73.0</td>\n",
              "      <td>ปี</td>\n",
              "      <td>Thailand</td>\n",
              "      <td>นครปฐม</td>\n",
              "      <td>คนต่างชาติเดินทางมาจากต่างประเทศ</td>\n",
              "      <td>นครปฐม</td>\n",
              "      <td>เมือง</td>\n",
              "    </tr>\n",
              "    <tr>\n",
              "      <th>3</th>\n",
              "      <td>4</td>\n",
              "      <td>2020-01-22</td>\n",
              "      <td>NaT</td>\n",
              "      <td>ชาย</td>\n",
              "      <td>68.0</td>\n",
              "      <td>ปี</td>\n",
              "      <td>China</td>\n",
              "      <td>กรุงเทพมหานคร</td>\n",
              "      <td>คนต่างชาติเดินทางมาจากต่างประเทศ</td>\n",
              "      <td>กรุงเทพมหานคร</td>\n",
              "      <td>NaN</td>\n",
              "    </tr>\n",
              "    <tr>\n",
              "      <th>4</th>\n",
              "      <td>5</td>\n",
              "      <td>2020-01-24</td>\n",
              "      <td>NaT</td>\n",
              "      <td>หญิง</td>\n",
              "      <td>66.0</td>\n",
              "      <td>ปี</td>\n",
              "      <td>China</td>\n",
              "      <td>นนทบุรี</td>\n",
              "      <td>คนต่างชาติเดินทางมาจากต่างประเทศ</td>\n",
              "      <td>กรุงเทพมหานคร</td>\n",
              "      <td>NaN</td>\n",
              "    </tr>\n",
              "    <tr>\n",
              "      <th>...</th>\n",
              "      <td>...</td>\n",
              "      <td>...</td>\n",
              "      <td>...</td>\n",
              "      <td>...</td>\n",
              "      <td>...</td>\n",
              "      <td>...</td>\n",
              "      <td>...</td>\n",
              "      <td>...</td>\n",
              "      <td>...</td>\n",
              "      <td>...</td>\n",
              "      <td>...</td>\n",
              "    </tr>\n",
              "    <tr>\n",
              "      <th>816984</th>\n",
              "      <td>816985</td>\n",
              "      <td>2021-08-11</td>\n",
              "      <td>2021-08-10</td>\n",
              "      <td>หญิง</td>\n",
              "      <td>8.0</td>\n",
              "      <td>ปี</td>\n",
              "      <td>Thailand</td>\n",
              "      <td>สระแก้ว</td>\n",
              "      <td>อยู่ระหว่างการสอบสวน</td>\n",
              "      <td>สระแก้ว</td>\n",
              "      <td>ตาพระยา</td>\n",
              "    </tr>\n",
              "    <tr>\n",
              "      <th>816985</th>\n",
              "      <td>816986</td>\n",
              "      <td>2021-08-11</td>\n",
              "      <td>2021-08-10</td>\n",
              "      <td>ชาย</td>\n",
              "      <td>14.0</td>\n",
              "      <td>ปี</td>\n",
              "      <td>Thailand</td>\n",
              "      <td>สระแก้ว</td>\n",
              "      <td>อยู่ระหว่างการสอบสวน</td>\n",
              "      <td>สระแก้ว</td>\n",
              "      <td>ตาพระยา</td>\n",
              "    </tr>\n",
              "    <tr>\n",
              "      <th>816986</th>\n",
              "      <td>816987</td>\n",
              "      <td>2021-08-11</td>\n",
              "      <td>2021-08-10</td>\n",
              "      <td>ชาย</td>\n",
              "      <td>59.0</td>\n",
              "      <td>ปี</td>\n",
              "      <td>Thailand</td>\n",
              "      <td>สระแก้ว</td>\n",
              "      <td>อาชีพเสี่ยง เช่น ทำงานในสถานที่แออัด หรือทำงาน...</td>\n",
              "      <td>สระแก้ว</td>\n",
              "      <td>อรัญประเทศ</td>\n",
              "    </tr>\n",
              "    <tr>\n",
              "      <th>816987</th>\n",
              "      <td>816988</td>\n",
              "      <td>2021-08-11</td>\n",
              "      <td>2021-08-10</td>\n",
              "      <td>หญิง</td>\n",
              "      <td>34.0</td>\n",
              "      <td>ปี</td>\n",
              "      <td>Thailand</td>\n",
              "      <td>สระแก้ว</td>\n",
              "      <td>อื่นๆ</td>\n",
              "      <td>กรุงเทพมหานคร</td>\n",
              "      <td>บางขุนเทียน</td>\n",
              "    </tr>\n",
              "    <tr>\n",
              "      <th>816988</th>\n",
              "      <td>816989</td>\n",
              "      <td>2021-08-11</td>\n",
              "      <td>2021-08-10</td>\n",
              "      <td>หญิง</td>\n",
              "      <td>19.0</td>\n",
              "      <td>ปี</td>\n",
              "      <td>Thailand</td>\n",
              "      <td>สระแก้ว</td>\n",
              "      <td>อื่นๆ</td>\n",
              "      <td>พระนครศรีอยุธยา</td>\n",
              "      <td>อุทัย</td>\n",
              "    </tr>\n",
              "  </tbody>\n",
              "</table>\n",
              "<p>816989 rows × 11 columns</p>\n",
              "</div>\n",
              "      <button class=\"colab-df-convert\" onclick=\"convertToInteractive('df-a788f0ac-9f27-4ab3-b1d2-ac1cbb49eaca')\"\n",
              "              title=\"Convert this dataframe to an interactive table.\"\n",
              "              style=\"display:none;\">\n",
              "        \n",
              "  <svg xmlns=\"http://www.w3.org/2000/svg\" height=\"24px\"viewBox=\"0 0 24 24\"\n",
              "       width=\"24px\">\n",
              "    <path d=\"M0 0h24v24H0V0z\" fill=\"none\"/>\n",
              "    <path d=\"M18.56 5.44l.94 2.06.94-2.06 2.06-.94-2.06-.94-.94-2.06-.94 2.06-2.06.94zm-11 1L8.5 8.5l.94-2.06 2.06-.94-2.06-.94L8.5 2.5l-.94 2.06-2.06.94zm10 10l.94 2.06.94-2.06 2.06-.94-2.06-.94-.94-2.06-.94 2.06-2.06.94z\"/><path d=\"M17.41 7.96l-1.37-1.37c-.4-.4-.92-.59-1.43-.59-.52 0-1.04.2-1.43.59L10.3 9.45l-7.72 7.72c-.78.78-.78 2.05 0 2.83L4 21.41c.39.39.9.59 1.41.59.51 0 1.02-.2 1.41-.59l7.78-7.78 2.81-2.81c.8-.78.8-2.07 0-2.86zM5.41 20L4 18.59l7.72-7.72 1.47 1.35L5.41 20z\"/>\n",
              "  </svg>\n",
              "      </button>\n",
              "      \n",
              "  <style>\n",
              "    .colab-df-container {\n",
              "      display:flex;\n",
              "      flex-wrap:wrap;\n",
              "      gap: 12px;\n",
              "    }\n",
              "\n",
              "    .colab-df-convert {\n",
              "      background-color: #E8F0FE;\n",
              "      border: none;\n",
              "      border-radius: 50%;\n",
              "      cursor: pointer;\n",
              "      display: none;\n",
              "      fill: #1967D2;\n",
              "      height: 32px;\n",
              "      padding: 0 0 0 0;\n",
              "      width: 32px;\n",
              "    }\n",
              "\n",
              "    .colab-df-convert:hover {\n",
              "      background-color: #E2EBFA;\n",
              "      box-shadow: 0px 1px 2px rgba(60, 64, 67, 0.3), 0px 1px 3px 1px rgba(60, 64, 67, 0.15);\n",
              "      fill: #174EA6;\n",
              "    }\n",
              "\n",
              "    [theme=dark] .colab-df-convert {\n",
              "      background-color: #3B4455;\n",
              "      fill: #D2E3FC;\n",
              "    }\n",
              "\n",
              "    [theme=dark] .colab-df-convert:hover {\n",
              "      background-color: #434B5C;\n",
              "      box-shadow: 0px 1px 3px 1px rgba(0, 0, 0, 0.15);\n",
              "      filter: drop-shadow(0px 1px 2px rgba(0, 0, 0, 0.3));\n",
              "      fill: #FFFFFF;\n",
              "    }\n",
              "  </style>\n",
              "\n",
              "      <script>\n",
              "        const buttonEl =\n",
              "          document.querySelector('#df-a788f0ac-9f27-4ab3-b1d2-ac1cbb49eaca button.colab-df-convert');\n",
              "        buttonEl.style.display =\n",
              "          google.colab.kernel.accessAllowed ? 'block' : 'none';\n",
              "\n",
              "        async function convertToInteractive(key) {\n",
              "          const element = document.querySelector('#df-a788f0ac-9f27-4ab3-b1d2-ac1cbb49eaca');\n",
              "          const dataTable =\n",
              "            await google.colab.kernel.invokeFunction('convertToInteractive',\n",
              "                                                     [key], {});\n",
              "          if (!dataTable) return;\n",
              "\n",
              "          const docLinkHtml = 'Like what you see? Visit the ' +\n",
              "            '<a target=\"_blank\" href=https://colab.research.google.com/notebooks/data_table.ipynb>data table notebook</a>'\n",
              "            + ' to learn more about interactive tables.';\n",
              "          element.innerHTML = '';\n",
              "          dataTable['output_type'] = 'display_data';\n",
              "          await google.colab.output.renderOutput(dataTable, element);\n",
              "          const docLink = document.createElement('div');\n",
              "          docLink.innerHTML = docLinkHtml;\n",
              "          element.appendChild(docLink);\n",
              "        }\n",
              "      </script>\n",
              "    </div>\n",
              "  </div>\n",
              "  "
            ]
          },
          "metadata": {},
          "execution_count": 5
        }
      ]
    },
    {
      "cell_type": "markdown",
      "source": [
        "## ข้อมูล Data covid วันที่ 12/01/2020 - 18/03/2022"
      ],
      "metadata": {
        "id": "fLoviUBK_GOF"
      }
    },
    {
      "cell_type": "markdown",
      "source": [
        "# ข้อมูล ภูมิภาค"
      ],
      "metadata": {
        "id": "uTgBM5CJ7Co0"
      }
    },
    {
      "cell_type": "code",
      "source": [
        ""
      ],
      "metadata": {
        "id": "BJknWZk58t1B"
      },
      "execution_count": null,
      "outputs": []
    },
    {
      "cell_type": "markdown",
      "source": [
        "# ข้อมูลที่เตรียมมา : รายชื่อหน่วยงานที่เข้าร่วมโครงการหมอพร้อม"
      ],
      "metadata": {
        "id": "2vvm4Sfo7H5i"
      }
    },
    {
      "cell_type": "code",
      "source": [
        ""
      ],
      "metadata": {
        "id": "3m1PFcf-8lkh"
      },
      "execution_count": null,
      "outputs": []
    }
  ]
}