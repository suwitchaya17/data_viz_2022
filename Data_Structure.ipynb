{
  "nbformat": 4,
  "nbformat_minor": 0,
  "metadata": {
    "colab": {
      "name": "Data Structure.ipynb",
      "provenance": [],
      "toc_visible": true,
      "authorship_tag": "ABX9TyPahDi+2Cd7IvOZ3Ja9vW+z",
      "include_colab_link": true
    },
    "kernelspec": {
      "name": "python3",
      "display_name": "Python 3"
    },
    "language_info": {
      "name": "python"
    }
  },
  "cells": [
    {
      "cell_type": "markdown",
      "metadata": {
        "id": "view-in-github",
        "colab_type": "text"
      },
      "source": [
        "<a href=\"https://colab.research.google.com/github/suwitchaya17/data_viz_2022/blob/main/Data_Structure.ipynb\" target=\"_parent\"><img src=\"https://colab.research.google.com/assets/colab-badge.svg\" alt=\"Open In Colab\"/></a>"
      ]
    },
    {
      "cell_type": "markdown",
      "source": [
        "# Data Structure (โครงสร้างข้อมูล)\n",
        "การเก็บข้อมูลหลายๆตัวไว้ด้วยกันอย่างเป็นระเบียบ"
      ],
      "metadata": {
        "id": "WsaSDsQO58qK"
      }
    },
    {
      "cell_type": "markdown",
      "source": [
        "### ```list() ```\n",
        "- เก็บอะไรก็ได้\n",
        "- ลำดับในการเก็บ มีความสำคัญ"
      ],
      "metadata": {
        "id": "4J6R4paf6Wea"
      }
    },
    {
      "cell_type": "code",
      "execution_count": 1,
      "metadata": {
        "id": "9pf9v5eE43vW"
      },
      "outputs": [],
      "source": [
        "list_a = [1,2,3,4,5,6] #[ ] square barackets"
      ]
    },
    {
      "cell_type": "code",
      "source": [
        "list_a"
      ],
      "metadata": {
        "colab": {
          "base_uri": "https://localhost:8080/"
        },
        "id": "364xrNTu57oC",
        "outputId": "5f8e6556-194a-4feb-9c30-ebac8205e325"
      },
      "execution_count": 2,
      "outputs": [
        {
          "output_type": "execute_result",
          "data": {
            "text/plain": [
              "[1, 2, 3, 4, 5, 6]"
            ]
          },
          "metadata": {},
          "execution_count": 2
        }
      ]
    },
    {
      "cell_type": "code",
      "source": [
        "list_b = ['ab' ,2,3.14,list_a]"
      ],
      "metadata": {
        "id": "sBCs04d96ql1"
      },
      "execution_count": 5,
      "outputs": []
    },
    {
      "cell_type": "code",
      "source": [
        "list_b"
      ],
      "metadata": {
        "colab": {
          "base_uri": "https://localhost:8080/"
        },
        "id": "vpMADTlU7ClT",
        "outputId": "0fd63562-e0b8-44d5-b88d-0dc214220b12"
      },
      "execution_count": 6,
      "outputs": [
        {
          "output_type": "execute_result",
          "data": {
            "text/plain": [
              "['ab', 2, 3.14, [1, 2, 3, 4, 5, 6]]"
            ]
          },
          "metadata": {},
          "execution_count": 6
        }
      ]
    },
    {
      "cell_type": "markdown",
      "source": [
        "### indexing การชี้สมาชิกใน list ด้วย เลขลำดับของ list"
      ],
      "metadata": {
        "id": "Vq_57ir18M5O"
      }
    },
    {
      "cell_type": "code",
      "source": [
        "list_a[3]"
      ],
      "metadata": {
        "colab": {
          "base_uri": "https://localhost:8080/"
        },
        "id": "8WFwWK7e7L9N",
        "outputId": "02401fa6-3970-48df-dbdd-19097d5f2a7e"
      },
      "execution_count": 7,
      "outputs": [
        {
          "output_type": "execute_result",
          "data": {
            "text/plain": [
              "4"
            ]
          },
          "metadata": {},
          "execution_count": 7
        }
      ]
    },
    {
      "cell_type": "code",
      "source": [
        "list_b[3]"
      ],
      "metadata": {
        "colab": {
          "base_uri": "https://localhost:8080/"
        },
        "id": "D25X8_Wt7hLD",
        "outputId": "beae9118-5284-4814-8c6d-659da0e9db08"
      },
      "execution_count": 8,
      "outputs": [
        {
          "output_type": "execute_result",
          "data": {
            "text/plain": [
              "[1, 2, 3, 4, 5, 6]"
            ]
          },
          "metadata": {},
          "execution_count": 8
        }
      ]
    },
    {
      "cell_type": "code",
      "source": [
        "list_b[3][4]"
      ],
      "metadata": {
        "colab": {
          "base_uri": "https://localhost:8080/"
        },
        "id": "6QnHUeai7hek",
        "outputId": "d8442dd5-9a92-4a88-d2e3-83eb00681097"
      },
      "execution_count": 10,
      "outputs": [
        {
          "output_type": "execute_result",
          "data": {
            "text/plain": [
              "5"
            ]
          },
          "metadata": {},
          "execution_count": 10
        }
      ]
    },
    {
      "cell_type": "code",
      "source": [
        "list_a[6] #เพราะสมาชิกมีแค่ 5 ตัวแต่เราเลือกตัวที่ 6 มา เลย error"
      ],
      "metadata": {
        "colab": {
          "base_uri": "https://localhost:8080/",
          "height": 166
        },
        "id": "uODUmriQ7h15",
        "outputId": "22b4d1d0-3b03-438e-ddf7-bb9ee0aadbbf"
      },
      "execution_count": 11,
      "outputs": [
        {
          "output_type": "error",
          "ename": "IndexError",
          "evalue": "ignored",
          "traceback": [
            "\u001b[0;31m---------------------------------------------------------------------------\u001b[0m",
            "\u001b[0;31mIndexError\u001b[0m                                Traceback (most recent call last)",
            "\u001b[0;32m<ipython-input-11-d6b61775e813>\u001b[0m in \u001b[0;36m<module>\u001b[0;34m()\u001b[0m\n\u001b[0;32m----> 1\u001b[0;31m \u001b[0mlist_a\u001b[0m\u001b[0;34m[\u001b[0m\u001b[0;36m6\u001b[0m\u001b[0;34m]\u001b[0m\u001b[0;34m\u001b[0m\u001b[0;34m\u001b[0m\u001b[0m\n\u001b[0m",
            "\u001b[0;31mIndexError\u001b[0m: list index out of range"
          ]
        }
      ]
    },
    {
      "cell_type": "code",
      "source": [
        "list_a[-1] #index -1 คือตัวสุดท้ายของ list"
      ],
      "metadata": {
        "colab": {
          "base_uri": "https://localhost:8080/"
        },
        "id": "iSWKDynA7iHD",
        "outputId": "35525bb3-bd31-4642-b385-50bdbb648017"
      },
      "execution_count": 12,
      "outputs": [
        {
          "output_type": "execute_result",
          "data": {
            "text/plain": [
              "6"
            ]
          },
          "metadata": {},
          "execution_count": 12
        }
      ]
    },
    {
      "cell_type": "code",
      "source": [
        "list_a[-4]"
      ],
      "metadata": {
        "colab": {
          "base_uri": "https://localhost:8080/"
        },
        "id": "yLRrkUEi9EaO",
        "outputId": "502c00b9-d6df-466f-b083-afde90e247a2"
      },
      "execution_count": 13,
      "outputs": [
        {
          "output_type": "execute_result",
          "data": {
            "text/plain": [
              "3"
            ]
          },
          "metadata": {},
          "execution_count": 13
        }
      ]
    },
    {
      "cell_type": "markdown",
      "source": [
        "### การสร้าง ```list()```"
      ],
      "metadata": {
        "id": "MHKqApfV9dTu"
      }
    },
    {
      "cell_type": "code",
      "source": [
        "list_x1 = [] #แบบที่ 1\n",
        "list_x2 = list() #แบบที่ 2"
      ],
      "metadata": {
        "id": "KNh3S0oT9Fjb"
      },
      "execution_count": 14,
      "outputs": []
    },
    {
      "cell_type": "code",
      "source": [
        "print(list_x1)\n",
        "print(list_x2)"
      ],
      "metadata": {
        "colab": {
          "base_uri": "https://localhost:8080/"
        },
        "id": "OyOLFKY79F2b",
        "outputId": "c1f2416a-5bf9-42a8-bdbe-d95c6a84493d"
      },
      "execution_count": 15,
      "outputs": [
        {
          "output_type": "stream",
          "name": "stdout",
          "text": [
            "[]\n",
            "[]\n"
          ]
        }
      ]
    },
    {
      "cell_type": "markdown",
      "source": [
        "### เพิ่มสมาชิกเข้าไปใน list ด้วย `appen()`"
      ],
      "metadata": {
        "id": "YG74XNkC-NwV"
      }
    },
    {
      "cell_type": "code",
      "source": [
        "list_x1.append(2)"
      ],
      "metadata": {
        "id": "atiGJjQx-Hbn"
      },
      "execution_count": 16,
      "outputs": []
    },
    {
      "cell_type": "code",
      "source": [
        "list_x1"
      ],
      "metadata": {
        "colab": {
          "base_uri": "https://localhost:8080/"
        },
        "id": "FTY7vnot-lKk",
        "outputId": "5b48f205-eb11-4d2a-c855-cdbbfcd01524"
      },
      "execution_count": 17,
      "outputs": [
        {
          "output_type": "execute_result",
          "data": {
            "text/plain": [
              "[2]"
            ]
          },
          "metadata": {},
          "execution_count": 17
        }
      ]
    },
    {
      "cell_type": "code",
      "source": [
        "list_x1.append(4)\n",
        "print(list_x1)"
      ],
      "metadata": {
        "colab": {
          "base_uri": "https://localhost:8080/"
        },
        "id": "gwvtxwRv-qnO",
        "outputId": "23183e59-769d-4505-c13c-2c45b1ff5499"
      },
      "execution_count": 18,
      "outputs": [
        {
          "output_type": "stream",
          "name": "stdout",
          "text": [
            "[2, 4]\n"
          ]
        }
      ]
    },
    {
      "cell_type": "code",
      "source": [
        "list_x1[0]"
      ],
      "metadata": {
        "colab": {
          "base_uri": "https://localhost:8080/"
        },
        "id": "QlqJ_fha_Btk",
        "outputId": "c96b1850-9203-49e8-8a4b-92f389c0eb3f"
      },
      "execution_count": 19,
      "outputs": [
        {
          "output_type": "execute_result",
          "data": {
            "text/plain": [
              "2"
            ]
          },
          "metadata": {},
          "execution_count": 19
        }
      ]
    },
    {
      "cell_type": "code",
      "source": [
        "list_x1[-1]"
      ],
      "metadata": {
        "colab": {
          "base_uri": "https://localhost:8080/"
        },
        "id": "kJ1wEHMV_HV9",
        "outputId": "552dc251-b381-454d-cac3-1f37afe6f10e"
      },
      "execution_count": 20,
      "outputs": [
        {
          "output_type": "execute_result",
          "data": {
            "text/plain": [
              "4"
            ]
          },
          "metadata": {},
          "execution_count": 20
        }
      ]
    },
    {
      "cell_type": "code",
      "source": [
        "list_x2"
      ],
      "metadata": {
        "colab": {
          "base_uri": "https://localhost:8080/"
        },
        "id": "rfWE1l6G_N2H",
        "outputId": "4ba365a3-c873-44b5-a05b-112ccbee6005"
      },
      "execution_count": 21,
      "outputs": [
        {
          "output_type": "execute_result",
          "data": {
            "text/plain": [
              "[]"
            ]
          },
          "metadata": {},
          "execution_count": 21
        }
      ]
    },
    {
      "cell_type": "code",
      "source": [
        "list_x2.append('ha')"
      ],
      "metadata": {
        "id": "I3xG7vJk_Vzf"
      },
      "execution_count": 27,
      "outputs": []
    },
    {
      "cell_type": "code",
      "source": [
        "list_x2"
      ],
      "metadata": {
        "colab": {
          "base_uri": "https://localhost:8080/"
        },
        "id": "kbyp9ei4_8_Z",
        "outputId": "60312ea5-91d0-4501-998e-eca4ce7505d7"
      },
      "execution_count": 28,
      "outputs": [
        {
          "output_type": "execute_result",
          "data": {
            "text/plain": [
              "['ha', 'ha']"
            ]
          },
          "metadata": {},
          "execution_count": 28
        }
      ]
    },
    {
      "cell_type": "markdown",
      "source": [
        "### ลบสมาชิกจาก list"
      ],
      "metadata": {
        "id": "C9o4jeM1AOm0"
      }
    },
    {
      "cell_type": "code",
      "source": [
        "list_x1.append('ha')"
      ],
      "metadata": {
        "id": "ulLqqe-DAAj8"
      },
      "execution_count": 30,
      "outputs": []
    },
    {
      "cell_type": "code",
      "source": [
        "list_x1"
      ],
      "metadata": {
        "colab": {
          "base_uri": "https://localhost:8080/"
        },
        "id": "dvgYbsj6ALLg",
        "outputId": "a0fb75e7-d47f-48b9-99ed-e368217982ad"
      },
      "execution_count": 31,
      "outputs": [
        {
          "output_type": "execute_result",
          "data": {
            "text/plain": [
              "[2, 4, 'ha', 'ha']"
            ]
          },
          "metadata": {},
          "execution_count": 31
        }
      ]
    },
    {
      "cell_type": "code",
      "source": [
        "list_x1.pop()"
      ],
      "metadata": {
        "colab": {
          "base_uri": "https://localhost:8080/",
          "height": 34
        },
        "id": "IpjSRa3HATUb",
        "outputId": "56e3b0f5-87aa-4132-9ca1-b59b7c967dfb"
      },
      "execution_count": 32,
      "outputs": [
        {
          "output_type": "execute_result",
          "data": {
            "application/vnd.google.colaboratory.intrinsic+json": {
              "type": "string"
            },
            "text/plain": [
              "'ha'"
            ]
          },
          "metadata": {},
          "execution_count": 32
        }
      ]
    },
    {
      "cell_type": "code",
      "source": [
        "list_x1"
      ],
      "metadata": {
        "colab": {
          "base_uri": "https://localhost:8080/"
        },
        "id": "PF9UGRwLAb72",
        "outputId": "27349dab-d45d-4932-a80c-0b15f8bc0268"
      },
      "execution_count": 33,
      "outputs": [
        {
          "output_type": "execute_result",
          "data": {
            "text/plain": [
              "[2, 4, 'ha']"
            ]
          },
          "metadata": {},
          "execution_count": 33
        }
      ]
    },
    {
      "cell_type": "code",
      "source": [
        "list_x1.pop()\n",
        "print(list_x1)"
      ],
      "metadata": {
        "colab": {
          "base_uri": "https://localhost:8080/"
        },
        "id": "y0K4rihnAieC",
        "outputId": "3ef01341-14b6-4d67-96ec-cb1a1ec07b2b"
      },
      "execution_count": 34,
      "outputs": [
        {
          "output_type": "stream",
          "name": "stdout",
          "text": [
            "[2, 4]\n"
          ]
        }
      ]
    },
    {
      "cell_type": "markdown",
      "source": [
        "### `len()` ตรวจสอบจำนวนสมาชิกของ list"
      ],
      "metadata": {
        "id": "cEqZcV04B63F"
      }
    },
    {
      "cell_type": "code",
      "source": [
        "print(list_b)\n",
        "print(len(list_b))"
      ],
      "metadata": {
        "colab": {
          "base_uri": "https://localhost:8080/"
        },
        "id": "23pAR4fYApYW",
        "outputId": "bfe1c244-7f05-4671-f14d-eb2083f07da9"
      },
      "execution_count": 35,
      "outputs": [
        {
          "output_type": "stream",
          "name": "stdout",
          "text": [
            "['ab', 2, 3.14, [1, 2, 3, 4, 5, 6]]\n",
            "4\n"
          ]
        }
      ]
    },
    {
      "cell_type": "code",
      "source": [
        "len(list_a)"
      ],
      "metadata": {
        "colab": {
          "base_uri": "https://localhost:8080/"
        },
        "id": "KAI55IDiCQQE",
        "outputId": "aa977bae-f88c-4991-db94-4916862d88d6"
      },
      "execution_count": 36,
      "outputs": [
        {
          "output_type": "execute_result",
          "data": {
            "text/plain": [
              "6"
            ]
          },
          "metadata": {},
          "execution_count": 36
        }
      ]
    },
    {
      "cell_type": "markdown",
      "source": [
        "### String is a list of characters"
      ],
      "metadata": {
        "id": "XeYJdXV-Cd_5"
      }
    },
    {
      "cell_type": "code",
      "source": [
        "st_stat = 'Department of Statistics, Faculty of Science'"
      ],
      "metadata": {
        "id": "Ze529J5dCTbX"
      },
      "execution_count": 37,
      "outputs": []
    },
    {
      "cell_type": "code",
      "source": [
        "st_stat[10]"
      ],
      "metadata": {
        "colab": {
          "base_uri": "https://localhost:8080/",
          "height": 34
        },
        "id": "9HuXSX5gDEHs",
        "outputId": "3fbef80e-d8ba-452c-94e0-12be8d380634"
      },
      "execution_count": 38,
      "outputs": [
        {
          "output_type": "execute_result",
          "data": {
            "application/vnd.google.colaboratory.intrinsic+json": {
              "type": "string"
            },
            "text/plain": [
              "' '"
            ]
          },
          "metadata": {},
          "execution_count": 38
        }
      ]
    },
    {
      "cell_type": "code",
      "source": [
        "len(st_stat)"
      ],
      "metadata": {
        "colab": {
          "base_uri": "https://localhost:8080/"
        },
        "id": "ydVqAgp6DLIV",
        "outputId": "b44eacb5-d79e-47da-b8da-5629def8b2d0"
      },
      "execution_count": 39,
      "outputs": [
        {
          "output_type": "execute_result",
          "data": {
            "text/plain": [
              "44"
            ]
          },
          "metadata": {},
          "execution_count": 39
        }
      ]
    },
    {
      "cell_type": "markdown",
      "source": [
        "### List Slicing `:`"
      ],
      "metadata": {
        "id": "UgzIMCWrDX8V"
      }
    },
    {
      "cell_type": "markdown",
      "source": [
        "`list[จุดเริ่มต้น (ทึบ) :จุดสุดท้าย (โปร่ง) ]`\n",
        "\n",
        "`list[จุดเริ่มต้น:จุดสุดท้าย:step]`\n",
        "![266810759_642751386724522_6606558384741065890_n.jpg](data:image/jpeg;base64,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)"
      ],
      "metadata": {
        "id": "989l2x3jEbOp"
      }
    },
    {
      "cell_type": "code",
      "source": [
        "list_a"
      ],
      "metadata": {
        "colab": {
          "base_uri": "https://localhost:8080/"
        },
        "id": "_8zdnPG6DP2K",
        "outputId": "7e68b008-c3a3-462a-9d68-8f94bca9f5a3"
      },
      "execution_count": 40,
      "outputs": [
        {
          "output_type": "execute_result",
          "data": {
            "text/plain": [
              "[1, 2, 3, 4, 5, 6]"
            ]
          },
          "metadata": {},
          "execution_count": 40
        }
      ]
    },
    {
      "cell_type": "code",
      "source": [
        "list_a[2]"
      ],
      "metadata": {
        "colab": {
          "base_uri": "https://localhost:8080/"
        },
        "id": "4VKtEeF7DxwI",
        "outputId": "327946f8-ff76-49ba-c397-5d589b5e7ce1"
      },
      "execution_count": 41,
      "outputs": [
        {
          "output_type": "execute_result",
          "data": {
            "text/plain": [
              "3"
            ]
          },
          "metadata": {},
          "execution_count": 41
        }
      ]
    },
    {
      "cell_type": "markdown",
      "source": [
        "#### : colon"
      ],
      "metadata": {
        "id": "tIknyBjjG9tT"
      }
    },
    {
      "cell_type": "code",
      "source": [
        "list_a[-3:] # : colon"
      ],
      "metadata": {
        "colab": {
          "base_uri": "https://localhost:8080/"
        },
        "id": "39PuUQnrD4ug",
        "outputId": "4cad6f2b-e9d1-4db4-86a2-c32997af7a70"
      },
      "execution_count": 43,
      "outputs": [
        {
          "output_type": "execute_result",
          "data": {
            "text/plain": [
              "[4, 5, 6]"
            ]
          },
          "metadata": {},
          "execution_count": 43
        }
      ]
    },
    {
      "cell_type": "code",
      "source": [
        "list_a[:4] # : colon"
      ],
      "metadata": {
        "colab": {
          "base_uri": "https://localhost:8080/"
        },
        "id": "Hn1I68_4ERxt",
        "outputId": "a3e5cb39-f70f-48f6-8a93-fb898a93ca34"
      },
      "execution_count": 45,
      "outputs": [
        {
          "output_type": "execute_result",
          "data": {
            "text/plain": [
              "[1, 2, 3, 4]"
            ]
          },
          "metadata": {},
          "execution_count": 45
        }
      ]
    },
    {
      "cell_type": "code",
      "source": [
        "list_a[1:4]"
      ],
      "metadata": {
        "colab": {
          "base_uri": "https://localhost:8080/"
        },
        "id": "sSgsyj0kGarO",
        "outputId": "b086218b-c846-4767-acac-3ef6ded3087b"
      },
      "execution_count": 46,
      "outputs": [
        {
          "output_type": "execute_result",
          "data": {
            "text/plain": [
              "[2, 3, 4]"
            ]
          },
          "metadata": {},
          "execution_count": 46
        }
      ]
    },
    {
      "cell_type": "code",
      "source": [
        "list_a[:]"
      ],
      "metadata": {
        "colab": {
          "base_uri": "https://localhost:8080/"
        },
        "id": "U0dAhCgTFvld",
        "outputId": "380f9794-7086-4fb6-9965-90fabfe2b25a"
      },
      "execution_count": 47,
      "outputs": [
        {
          "output_type": "execute_result",
          "data": {
            "text/plain": [
              "[1, 2, 3, 4, 5, 6]"
            ]
          },
          "metadata": {},
          "execution_count": 47
        }
      ]
    },
    {
      "cell_type": "markdown",
      "source": [
        "#### step"
      ],
      "metadata": {
        "id": "l6blOWa8GxZN"
      }
    },
    {
      "cell_type": "code",
      "source": [
        "list_c = [1,2,3,4,5,6,7,8,9,10,11,12,13]"
      ],
      "metadata": {
        "id": "ZP-8LXOdG0wX"
      },
      "execution_count": 48,
      "outputs": []
    },
    {
      "cell_type": "code",
      "source": [
        "list_c[:10:]"
      ],
      "metadata": {
        "colab": {
          "base_uri": "https://localhost:8080/"
        },
        "id": "6Ph4N4jpHT0n",
        "outputId": "5affb981-01dd-4d39-cd33-d73c09754b86"
      },
      "execution_count": 49,
      "outputs": [
        {
          "output_type": "execute_result",
          "data": {
            "text/plain": [
              "[1, 2, 3, 4, 5, 6, 7, 8, 9, 10]"
            ]
          },
          "metadata": {},
          "execution_count": 49
        }
      ]
    },
    {
      "cell_type": "code",
      "source": [
        "list_c[:10:2]"
      ],
      "metadata": {
        "colab": {
          "base_uri": "https://localhost:8080/"
        },
        "id": "DMD1J53wHX85",
        "outputId": "cab25f1d-072b-477a-906d-4cc3cb587668"
      },
      "execution_count": 50,
      "outputs": [
        {
          "output_type": "execute_result",
          "data": {
            "text/plain": [
              "[1, 3, 5, 7, 9]"
            ]
          },
          "metadata": {},
          "execution_count": 50
        }
      ]
    },
    {
      "cell_type": "code",
      "source": [
        "list_c[::-1]"
      ],
      "metadata": {
        "colab": {
          "base_uri": "https://localhost:8080/"
        },
        "id": "aKUJryw2HbTX",
        "outputId": "f1d9fdc2-1132-478d-c708-5f6d14819e0c"
      },
      "execution_count": 51,
      "outputs": [
        {
          "output_type": "execute_result",
          "data": {
            "text/plain": [
              "[13, 12, 11, 10, 9, 8, 7, 6, 5, 4, 3, 2, 1]"
            ]
          },
          "metadata": {},
          "execution_count": 51
        }
      ]
    },
    {
      "cell_type": "markdown",
      "source": [
        "### `range()`"
      ],
      "metadata": {
        "id": "wdWC6edMH0FD"
      }
    },
    {
      "cell_type": "code",
      "source": [
        "a = list(range(21)) # จำนวน 21 ตัว"
      ],
      "metadata": {
        "id": "f3jQi_MHHgmh"
      },
      "execution_count": 55,
      "outputs": []
    },
    {
      "cell_type": "code",
      "source": [
        "a"
      ],
      "metadata": {
        "colab": {
          "base_uri": "https://localhost:8080/"
        },
        "id": "Rr8XaXBjIJjS",
        "outputId": "762ff090-ebd9-4338-d67e-08ff5ec88ee7"
      },
      "execution_count": 56,
      "outputs": [
        {
          "output_type": "execute_result",
          "data": {
            "text/plain": [
              "[0, 1, 2, 3, 4, 5, 6, 7, 8, 9, 10, 11, 12, 13, 14, 15, 16, 17, 18, 19, 20]"
            ]
          },
          "metadata": {},
          "execution_count": 56
        }
      ]
    },
    {
      "cell_type": "code",
      "source": [
        "list(range(1,21)) #เหมือนจุดเริ่มต้นคือ 1 แต่ 21 คือวงกลมโปร่ง"
      ],
      "metadata": {
        "colab": {
          "base_uri": "https://localhost:8080/"
        },
        "id": "xRbnYkNZIMDx",
        "outputId": "3a3507af-6084-4b45-b962-f529401f7df9"
      },
      "execution_count": 57,
      "outputs": [
        {
          "output_type": "execute_result",
          "data": {
            "text/plain": [
              "[1, 2, 3, 4, 5, 6, 7, 8, 9, 10, 11, 12, 13, 14, 15, 16, 17, 18, 19, 20]"
            ]
          },
          "metadata": {},
          "execution_count": 57
        }
      ]
    },
    {
      "cell_type": "markdown",
      "source": [
        "HW2 คำนวณเวลาเป็นวินาทีของเวลาต่อไปนี้โดยใช้คำสั่ง split() ช่วย (print ออกมาให้สวยงาม)\n",
        "\n",
        "- 12:30:15\n",
        "- 13:41:07\n",
        "- 09:11:50\n",
        "- 21:30:15\n",
        "- 03:10:15"
      ],
      "metadata": {
        "id": "U5sTbLMPI-6T"
      }
    },
    {
      "cell_type": "code",
      "source": [
        "#01:02:03\n",
        "\n",
        "a = (1*60*60) + (2*60) + 3\n",
        "print(f'01:02:03 แปลงเป็นวินาที ได้ {a} วินาที')"
      ],
      "metadata": {
        "colab": {
          "base_uri": "https://localhost:8080/"
        },
        "id": "kB86bGL9Iu5W",
        "outputId": "f48239f7-6d86-4c91-c90c-9730e13387f3"
      },
      "execution_count": 62,
      "outputs": [
        {
          "output_type": "stream",
          "name": "stdout",
          "text": [
            "01:02:03 แปลงเป็นวินาที ได้ 3723 วินาที\n"
          ]
        }
      ]
    },
    {
      "cell_type": "code",
      "source": [
        "#12:30:15\n",
        "\n",
        "a = (12*60*60) + (30*60) + 15\n",
        "print(f'01:02:03 แปลงเป็นวินาที ได้ {a} วินาที')"
      ],
      "metadata": {
        "colab": {
          "base_uri": "https://localhost:8080/"
        },
        "id": "RkXNhn4bNELx",
        "outputId": "845917c7-3ae3-4c3a-ce8f-289cff41d583"
      },
      "execution_count": 63,
      "outputs": [
        {
          "output_type": "stream",
          "name": "stdout",
          "text": [
            "01:02:03 แปลงเป็นวินาที ได้ 45015 วินาที\n"
          ]
        }
      ]
    },
    {
      "cell_type": "code",
      "source": [
        "#13:41:07\n",
        "\n",
        "a = (13*60*60) + (41*60) + 7\n",
        "print(f'01:02:03 แปลงเป็นวินาที ได้ {a} วินาที')\n"
      ],
      "metadata": {
        "colab": {
          "base_uri": "https://localhost:8080/"
        },
        "id": "XfubKkUiJ3Xb",
        "outputId": "1b9135c5-ba8a-4c42-88bc-5806ac3be5fd"
      },
      "execution_count": 64,
      "outputs": [
        {
          "output_type": "stream",
          "name": "stdout",
          "text": [
            "01:02:03 แปลงเป็นวินาที ได้ 49267 วินาที\n"
          ]
        }
      ]
    },
    {
      "cell_type": "code",
      "source": [
        "#09:11:50\n",
        "\n",
        "a = (9*60*60) + (11*60) + 50\n",
        "print(f'01:02:03 แปลงเป็นวินาที ได้ {a} วินาที')"
      ],
      "metadata": {
        "colab": {
          "base_uri": "https://localhost:8080/"
        },
        "id": "_UGVgfNfM0Rd",
        "outputId": "73334845-cf6a-480e-d936-9a2df23426fb"
      },
      "execution_count": 65,
      "outputs": [
        {
          "output_type": "stream",
          "name": "stdout",
          "text": [
            "01:02:03 แปลงเป็นวินาที ได้ 33110 วินาที\n"
          ]
        }
      ]
    },
    {
      "cell_type": "code",
      "source": [
        "#21:30:15\n",
        "\n",
        "a = (21*60*60) + (30*60) + 15\n",
        "print(f'01:02:03 แปลงเป็นวินาที ได้ {a} วินาที')"
      ],
      "metadata": {
        "colab": {
          "base_uri": "https://localhost:8080/"
        },
        "id": "TgKuQn_1M3Jp",
        "outputId": "786c3a23-97cb-4705-e14a-b241ac1977b3"
      },
      "execution_count": 66,
      "outputs": [
        {
          "output_type": "stream",
          "name": "stdout",
          "text": [
            "01:02:03 แปลงเป็นวินาที ได้ 77415 วินาที\n"
          ]
        }
      ]
    },
    {
      "cell_type": "code",
      "source": [
        "#03:10:15\n",
        "\n",
        "a = (3*60*60) + (10*60) + 15\n",
        "print(f'01:02:03 แปลงเป็นวินาที ได้ {a} วินาที')"
      ],
      "metadata": {
        "colab": {
          "base_uri": "https://localhost:8080/"
        },
        "id": "VKJYoMRdM7p5",
        "outputId": "013bf899-3e92-4440-c4b2-1a1cdc7af70c"
      },
      "execution_count": 70,
      "outputs": [
        {
          "output_type": "stream",
          "name": "stdout",
          "text": [
            "01:02:03 แปลงเป็นวินาที ได้ 11415 วินาที\n"
          ]
        }
      ]
    }
  ]
}