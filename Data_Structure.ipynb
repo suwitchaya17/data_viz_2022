{
  "nbformat": 4,
  "nbformat_minor": 0,
  "metadata": {
    "colab": {
      "name": "Data Structure.ipynb",
      "provenance": [],
      "toc_visible": true,
      "authorship_tag": "ABX9TyOfKp82xYpH7hGrMemJc06S",
      "include_colab_link": true
    },
    "kernelspec": {
      "name": "python3",
      "display_name": "Python 3"
    },
    "language_info": {
      "name": "python"
    }
  },
  "cells": [
    {
      "cell_type": "markdown",
      "metadata": {
        "id": "view-in-github",
        "colab_type": "text"
      },
      "source": [
        "<a href=\"https://colab.research.google.com/github/suwitchaya17/data_viz_2022/blob/main/Data_Structure.ipynb\" target=\"_parent\"><img src=\"https://colab.research.google.com/assets/colab-badge.svg\" alt=\"Open In Colab\"/></a>"
      ]
    },
    {
      "cell_type": "markdown",
      "source": [
        "# Data Structure (โครงสร้างข้อมูล)\n",
        "การเก็บข้อมูลหลายๆตัวไว้ด้วยกันอย่างเป็นระเบียบ"
      ],
      "metadata": {
        "id": "WsaSDsQO58qK"
      }
    },
    {
      "cell_type": "markdown",
      "source": [
        "### ```list() ```\n",
        "- เก็บอะไรก็ได้\n",
        "- ลำดับในการเก็บ มีความสำคัญ"
      ],
      "metadata": {
        "id": "4J6R4paf6Wea"
      }
    },
    {
      "cell_type": "code",
      "execution_count": null,
      "metadata": {
        "id": "9pf9v5eE43vW"
      },
      "outputs": [],
      "source": [
        "list_a = [1,2,3,4,5,6] #[ ] square barackets"
      ]
    },
    {
      "cell_type": "code",
      "source": [
        "list_a"
      ],
      "metadata": {
        "colab": {
          "base_uri": "https://localhost:8080/"
        },
        "id": "364xrNTu57oC",
        "outputId": "5f8e6556-194a-4feb-9c30-ebac8205e325"
      },
      "execution_count": null,
      "outputs": [
        {
          "output_type": "execute_result",
          "data": {
            "text/plain": [
              "[1, 2, 3, 4, 5, 6]"
            ]
          },
          "metadata": {},
          "execution_count": 2
        }
      ]
    },
    {
      "cell_type": "code",
      "source": [
        "list_b = ['ab' ,2,3.14,list_a]"
      ],
      "metadata": {
        "id": "sBCs04d96ql1"
      },
      "execution_count": null,
      "outputs": []
    },
    {
      "cell_type": "code",
      "source": [
        "list_b"
      ],
      "metadata": {
        "colab": {
          "base_uri": "https://localhost:8080/"
        },
        "id": "vpMADTlU7ClT",
        "outputId": "0fd63562-e0b8-44d5-b88d-0dc214220b12"
      },
      "execution_count": null,
      "outputs": [
        {
          "output_type": "execute_result",
          "data": {
            "text/plain": [
              "['ab', 2, 3.14, [1, 2, 3, 4, 5, 6]]"
            ]
          },
          "metadata": {},
          "execution_count": 6
        }
      ]
    },
    {
      "cell_type": "markdown",
      "source": [
        "### indexing การชี้สมาชิกใน list ด้วย เลขลำดับของ list"
      ],
      "metadata": {
        "id": "Vq_57ir18M5O"
      }
    },
    {
      "cell_type": "code",
      "source": [
        "list_a[3]"
      ],
      "metadata": {
        "colab": {
          "base_uri": "https://localhost:8080/"
        },
        "id": "8WFwWK7e7L9N",
        "outputId": "02401fa6-3970-48df-dbdd-19097d5f2a7e"
      },
      "execution_count": null,
      "outputs": [
        {
          "output_type": "execute_result",
          "data": {
            "text/plain": [
              "4"
            ]
          },
          "metadata": {},
          "execution_count": 7
        }
      ]
    },
    {
      "cell_type": "code",
      "source": [
        "list_b[3]"
      ],
      "metadata": {
        "colab": {
          "base_uri": "https://localhost:8080/"
        },
        "id": "D25X8_Wt7hLD",
        "outputId": "beae9118-5284-4814-8c6d-659da0e9db08"
      },
      "execution_count": null,
      "outputs": [
        {
          "output_type": "execute_result",
          "data": {
            "text/plain": [
              "[1, 2, 3, 4, 5, 6]"
            ]
          },
          "metadata": {},
          "execution_count": 8
        }
      ]
    },
    {
      "cell_type": "code",
      "source": [
        "list_b[3][4]"
      ],
      "metadata": {
        "colab": {
          "base_uri": "https://localhost:8080/"
        },
        "id": "6QnHUeai7hek",
        "outputId": "d8442dd5-9a92-4a88-d2e3-83eb00681097"
      },
      "execution_count": null,
      "outputs": [
        {
          "output_type": "execute_result",
          "data": {
            "text/plain": [
              "5"
            ]
          },
          "metadata": {},
          "execution_count": 10
        }
      ]
    },
    {
      "cell_type": "code",
      "source": [
        "list_a[6] #เพราะสมาชิกมีแค่ 5 ตัวแต่เราเลือกตัวที่ 6 มา เลย error"
      ],
      "metadata": {
        "colab": {
          "base_uri": "https://localhost:8080/",
          "height": 166
        },
        "id": "uODUmriQ7h15",
        "outputId": "22b4d1d0-3b03-438e-ddf7-bb9ee0aadbbf"
      },
      "execution_count": null,
      "outputs": [
        {
          "output_type": "error",
          "ename": "IndexError",
          "evalue": "ignored",
          "traceback": [
            "\u001b[0;31m---------------------------------------------------------------------------\u001b[0m",
            "\u001b[0;31mIndexError\u001b[0m                                Traceback (most recent call last)",
            "\u001b[0;32m<ipython-input-11-d6b61775e813>\u001b[0m in \u001b[0;36m<module>\u001b[0;34m()\u001b[0m\n\u001b[0;32m----> 1\u001b[0;31m \u001b[0mlist_a\u001b[0m\u001b[0;34m[\u001b[0m\u001b[0;36m6\u001b[0m\u001b[0;34m]\u001b[0m\u001b[0;34m\u001b[0m\u001b[0;34m\u001b[0m\u001b[0m\n\u001b[0m",
            "\u001b[0;31mIndexError\u001b[0m: list index out of range"
          ]
        }
      ]
    },
    {
      "cell_type": "code",
      "source": [
        "list_a[-1] #index -1 คือตัวสุดท้ายของ list"
      ],
      "metadata": {
        "colab": {
          "base_uri": "https://localhost:8080/"
        },
        "id": "iSWKDynA7iHD",
        "outputId": "35525bb3-bd31-4642-b385-50bdbb648017"
      },
      "execution_count": null,
      "outputs": [
        {
          "output_type": "execute_result",
          "data": {
            "text/plain": [
              "6"
            ]
          },
          "metadata": {},
          "execution_count": 12
        }
      ]
    },
    {
      "cell_type": "code",
      "source": [
        "list_a[-4]"
      ],
      "metadata": {
        "colab": {
          "base_uri": "https://localhost:8080/"
        },
        "id": "yLRrkUEi9EaO",
        "outputId": "502c00b9-d6df-466f-b083-afde90e247a2"
      },
      "execution_count": null,
      "outputs": [
        {
          "output_type": "execute_result",
          "data": {
            "text/plain": [
              "3"
            ]
          },
          "metadata": {},
          "execution_count": 13
        }
      ]
    },
    {
      "cell_type": "markdown",
      "source": [
        "### การสร้าง ```list()```"
      ],
      "metadata": {
        "id": "MHKqApfV9dTu"
      }
    },
    {
      "cell_type": "code",
      "source": [
        "list_x1 = [] #แบบที่ 1\n",
        "list_x2 = list() #แบบที่ 2"
      ],
      "metadata": {
        "id": "KNh3S0oT9Fjb"
      },
      "execution_count": null,
      "outputs": []
    },
    {
      "cell_type": "code",
      "source": [
        "print(list_x1)\n",
        "print(list_x2)"
      ],
      "metadata": {
        "colab": {
          "base_uri": "https://localhost:8080/"
        },
        "id": "OyOLFKY79F2b",
        "outputId": "c1f2416a-5bf9-42a8-bdbe-d95c6a84493d"
      },
      "execution_count": null,
      "outputs": [
        {
          "output_type": "stream",
          "name": "stdout",
          "text": [
            "[]\n",
            "[]\n"
          ]
        }
      ]
    },
    {
      "cell_type": "markdown",
      "source": [
        "### เพิ่มสมาชิกเข้าไปใน list ด้วย `appen()`"
      ],
      "metadata": {
        "id": "YG74XNkC-NwV"
      }
    },
    {
      "cell_type": "code",
      "source": [
        "list_x1.append(2)"
      ],
      "metadata": {
        "id": "atiGJjQx-Hbn"
      },
      "execution_count": null,
      "outputs": []
    },
    {
      "cell_type": "code",
      "source": [
        "list_x1"
      ],
      "metadata": {
        "colab": {
          "base_uri": "https://localhost:8080/"
        },
        "id": "FTY7vnot-lKk",
        "outputId": "5b48f205-eb11-4d2a-c855-cdbbfcd01524"
      },
      "execution_count": null,
      "outputs": [
        {
          "output_type": "execute_result",
          "data": {
            "text/plain": [
              "[2]"
            ]
          },
          "metadata": {},
          "execution_count": 17
        }
      ]
    },
    {
      "cell_type": "code",
      "source": [
        "list_x1.append(4)\n",
        "print(list_x1)"
      ],
      "metadata": {
        "colab": {
          "base_uri": "https://localhost:8080/"
        },
        "id": "gwvtxwRv-qnO",
        "outputId": "23183e59-769d-4505-c13c-2c45b1ff5499"
      },
      "execution_count": null,
      "outputs": [
        {
          "output_type": "stream",
          "name": "stdout",
          "text": [
            "[2, 4]\n"
          ]
        }
      ]
    },
    {
      "cell_type": "code",
      "source": [
        "list_x1[0]"
      ],
      "metadata": {
        "colab": {
          "base_uri": "https://localhost:8080/"
        },
        "id": "QlqJ_fha_Btk",
        "outputId": "c96b1850-9203-49e8-8a4b-92f389c0eb3f"
      },
      "execution_count": null,
      "outputs": [
        {
          "output_type": "execute_result",
          "data": {
            "text/plain": [
              "2"
            ]
          },
          "metadata": {},
          "execution_count": 19
        }
      ]
    },
    {
      "cell_type": "code",
      "source": [
        "list_x1[-1]"
      ],
      "metadata": {
        "colab": {
          "base_uri": "https://localhost:8080/"
        },
        "id": "kJ1wEHMV_HV9",
        "outputId": "552dc251-b381-454d-cac3-1f37afe6f10e"
      },
      "execution_count": null,
      "outputs": [
        {
          "output_type": "execute_result",
          "data": {
            "text/plain": [
              "4"
            ]
          },
          "metadata": {},
          "execution_count": 20
        }
      ]
    },
    {
      "cell_type": "code",
      "source": [
        "list_x2"
      ],
      "metadata": {
        "colab": {
          "base_uri": "https://localhost:8080/"
        },
        "id": "rfWE1l6G_N2H",
        "outputId": "4ba365a3-c873-44b5-a05b-112ccbee6005"
      },
      "execution_count": null,
      "outputs": [
        {
          "output_type": "execute_result",
          "data": {
            "text/plain": [
              "[]"
            ]
          },
          "metadata": {},
          "execution_count": 21
        }
      ]
    },
    {
      "cell_type": "code",
      "source": [
        "list_x2.append('ha')"
      ],
      "metadata": {
        "id": "I3xG7vJk_Vzf"
      },
      "execution_count": null,
      "outputs": []
    },
    {
      "cell_type": "code",
      "source": [
        "list_x2"
      ],
      "metadata": {
        "colab": {
          "base_uri": "https://localhost:8080/"
        },
        "id": "kbyp9ei4_8_Z",
        "outputId": "60312ea5-91d0-4501-998e-eca4ce7505d7"
      },
      "execution_count": null,
      "outputs": [
        {
          "output_type": "execute_result",
          "data": {
            "text/plain": [
              "['ha', 'ha']"
            ]
          },
          "metadata": {},
          "execution_count": 28
        }
      ]
    },
    {
      "cell_type": "markdown",
      "source": [
        "### ลบสมาชิกจาก list"
      ],
      "metadata": {
        "id": "C9o4jeM1AOm0"
      }
    },
    {
      "cell_type": "code",
      "source": [
        "list_x1.append('ha')"
      ],
      "metadata": {
        "id": "ulLqqe-DAAj8"
      },
      "execution_count": null,
      "outputs": []
    },
    {
      "cell_type": "code",
      "source": [
        "list_x1"
      ],
      "metadata": {
        "colab": {
          "base_uri": "https://localhost:8080/"
        },
        "id": "dvgYbsj6ALLg",
        "outputId": "a0fb75e7-d47f-48b9-99ed-e368217982ad"
      },
      "execution_count": null,
      "outputs": [
        {
          "output_type": "execute_result",
          "data": {
            "text/plain": [
              "[2, 4, 'ha', 'ha']"
            ]
          },
          "metadata": {},
          "execution_count": 31
        }
      ]
    },
    {
      "cell_type": "code",
      "source": [
        "list_x1.pop()"
      ],
      "metadata": {
        "colab": {
          "base_uri": "https://localhost:8080/",
          "height": 34
        },
        "id": "IpjSRa3HATUb",
        "outputId": "56e3b0f5-87aa-4132-9ca1-b59b7c967dfb"
      },
      "execution_count": null,
      "outputs": [
        {
          "output_type": "execute_result",
          "data": {
            "application/vnd.google.colaboratory.intrinsic+json": {
              "type": "string"
            },
            "text/plain": [
              "'ha'"
            ]
          },
          "metadata": {},
          "execution_count": 32
        }
      ]
    },
    {
      "cell_type": "code",
      "source": [
        "list_x1"
      ],
      "metadata": {
        "colab": {
          "base_uri": "https://localhost:8080/"
        },
        "id": "PF9UGRwLAb72",
        "outputId": "27349dab-d45d-4932-a80c-0b15f8bc0268"
      },
      "execution_count": null,
      "outputs": [
        {
          "output_type": "execute_result",
          "data": {
            "text/plain": [
              "[2, 4, 'ha']"
            ]
          },
          "metadata": {},
          "execution_count": 33
        }
      ]
    },
    {
      "cell_type": "code",
      "source": [
        "list_x1.pop()\n",
        "print(list_x1)"
      ],
      "metadata": {
        "colab": {
          "base_uri": "https://localhost:8080/"
        },
        "id": "y0K4rihnAieC",
        "outputId": "3ef01341-14b6-4d67-96ec-cb1a1ec07b2b"
      },
      "execution_count": null,
      "outputs": [
        {
          "output_type": "stream",
          "name": "stdout",
          "text": [
            "[2, 4]\n"
          ]
        }
      ]
    },
    {
      "cell_type": "markdown",
      "source": [
        "### `len()` ตรวจสอบจำนวนสมาชิกของ list"
      ],
      "metadata": {
        "id": "cEqZcV04B63F"
      }
    },
    {
      "cell_type": "code",
      "source": [
        "print(list_b)\n",
        "print(len(list_b))"
      ],
      "metadata": {
        "colab": {
          "base_uri": "https://localhost:8080/"
        },
        "id": "23pAR4fYApYW",
        "outputId": "bfe1c244-7f05-4671-f14d-eb2083f07da9"
      },
      "execution_count": null,
      "outputs": [
        {
          "output_type": "stream",
          "name": "stdout",
          "text": [
            "['ab', 2, 3.14, [1, 2, 3, 4, 5, 6]]\n",
            "4\n"
          ]
        }
      ]
    },
    {
      "cell_type": "code",
      "source": [
        "len(list_a)"
      ],
      "metadata": {
        "colab": {
          "base_uri": "https://localhost:8080/"
        },
        "id": "KAI55IDiCQQE",
        "outputId": "aa977bae-f88c-4991-db94-4916862d88d6"
      },
      "execution_count": null,
      "outputs": [
        {
          "output_type": "execute_result",
          "data": {
            "text/plain": [
              "6"
            ]
          },
          "metadata": {},
          "execution_count": 36
        }
      ]
    },
    {
      "cell_type": "markdown",
      "source": [
        "### String is a list of characters"
      ],
      "metadata": {
        "id": "XeYJdXV-Cd_5"
      }
    },
    {
      "cell_type": "code",
      "source": [
        "st_stat = 'Department of Statistics, Faculty of Science'"
      ],
      "metadata": {
        "id": "Ze529J5dCTbX"
      },
      "execution_count": null,
      "outputs": []
    },
    {
      "cell_type": "code",
      "source": [
        "st_stat[10]"
      ],
      "metadata": {
        "colab": {
          "base_uri": "https://localhost:8080/",
          "height": 34
        },
        "id": "9HuXSX5gDEHs",
        "outputId": "3fbef80e-d8ba-452c-94e0-12be8d380634"
      },
      "execution_count": null,
      "outputs": [
        {
          "output_type": "execute_result",
          "data": {
            "application/vnd.google.colaboratory.intrinsic+json": {
              "type": "string"
            },
            "text/plain": [
              "' '"
            ]
          },
          "metadata": {},
          "execution_count": 38
        }
      ]
    },
    {
      "cell_type": "code",
      "source": [
        "len(st_stat)"
      ],
      "metadata": {
        "colab": {
          "base_uri": "https://localhost:8080/"
        },
        "id": "ydVqAgp6DLIV",
        "outputId": "b44eacb5-d79e-47da-b8da-5629def8b2d0"
      },
      "execution_count": null,
      "outputs": [
        {
          "output_type": "execute_result",
          "data": {
            "text/plain": [
              "44"
            ]
          },
          "metadata": {},
          "execution_count": 39
        }
      ]
    },
    {
      "cell_type": "markdown",
      "source": [
        "### List Slicing `:`"
      ],
      "metadata": {
        "id": "UgzIMCWrDX8V"
      }
    },
    {
      "cell_type": "markdown",
      "source": [
        "`list[จุดเริ่มต้น (ทึบ) :จุดสุดท้าย (โปร่ง) ]`\n",
        "\n",
        "`list[จุดเริ่มต้น:จุดสุดท้าย:step]`\n",
        "![266810759_642751386724522_6606558384741065890_n.jpg](data:image/jpeg;base64,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)"
      ],
      "metadata": {
        "id": "989l2x3jEbOp"
      }
    },
    {
      "cell_type": "code",
      "source": [
        "list_a"
      ],
      "metadata": {
        "colab": {
          "base_uri": "https://localhost:8080/"
        },
        "id": "_8zdnPG6DP2K",
        "outputId": "7e68b008-c3a3-462a-9d68-8f94bca9f5a3"
      },
      "execution_count": null,
      "outputs": [
        {
          "output_type": "execute_result",
          "data": {
            "text/plain": [
              "[1, 2, 3, 4, 5, 6]"
            ]
          },
          "metadata": {},
          "execution_count": 40
        }
      ]
    },
    {
      "cell_type": "code",
      "source": [
        "list_a[2]"
      ],
      "metadata": {
        "colab": {
          "base_uri": "https://localhost:8080/"
        },
        "id": "4VKtEeF7DxwI",
        "outputId": "327946f8-ff76-49ba-c397-5d589b5e7ce1"
      },
      "execution_count": null,
      "outputs": [
        {
          "output_type": "execute_result",
          "data": {
            "text/plain": [
              "3"
            ]
          },
          "metadata": {},
          "execution_count": 41
        }
      ]
    },
    {
      "cell_type": "markdown",
      "source": [
        "#### : colon"
      ],
      "metadata": {
        "id": "tIknyBjjG9tT"
      }
    },
    {
      "cell_type": "code",
      "source": [
        "list_a[-3:] # : colon"
      ],
      "metadata": {
        "colab": {
          "base_uri": "https://localhost:8080/"
        },
        "id": "39PuUQnrD4ug",
        "outputId": "4cad6f2b-e9d1-4db4-86a2-c32997af7a70"
      },
      "execution_count": null,
      "outputs": [
        {
          "output_type": "execute_result",
          "data": {
            "text/plain": [
              "[4, 5, 6]"
            ]
          },
          "metadata": {},
          "execution_count": 43
        }
      ]
    },
    {
      "cell_type": "code",
      "source": [
        "list_a[:4] # : colon"
      ],
      "metadata": {
        "colab": {
          "base_uri": "https://localhost:8080/"
        },
        "id": "Hn1I68_4ERxt",
        "outputId": "a3e5cb39-f70f-48f6-8a93-fb898a93ca34"
      },
      "execution_count": null,
      "outputs": [
        {
          "output_type": "execute_result",
          "data": {
            "text/plain": [
              "[1, 2, 3, 4]"
            ]
          },
          "metadata": {},
          "execution_count": 45
        }
      ]
    },
    {
      "cell_type": "code",
      "source": [
        "list_a[1:4]"
      ],
      "metadata": {
        "colab": {
          "base_uri": "https://localhost:8080/"
        },
        "id": "sSgsyj0kGarO",
        "outputId": "b086218b-c846-4767-acac-3ef6ded3087b"
      },
      "execution_count": null,
      "outputs": [
        {
          "output_type": "execute_result",
          "data": {
            "text/plain": [
              "[2, 3, 4]"
            ]
          },
          "metadata": {},
          "execution_count": 46
        }
      ]
    },
    {
      "cell_type": "code",
      "source": [
        "list_a[:]"
      ],
      "metadata": {
        "colab": {
          "base_uri": "https://localhost:8080/"
        },
        "id": "U0dAhCgTFvld",
        "outputId": "380f9794-7086-4fb6-9965-90fabfe2b25a"
      },
      "execution_count": null,
      "outputs": [
        {
          "output_type": "execute_result",
          "data": {
            "text/plain": [
              "[1, 2, 3, 4, 5, 6]"
            ]
          },
          "metadata": {},
          "execution_count": 47
        }
      ]
    },
    {
      "cell_type": "markdown",
      "source": [
        "#### step"
      ],
      "metadata": {
        "id": "l6blOWa8GxZN"
      }
    },
    {
      "cell_type": "code",
      "source": [
        "list_c = [1,2,3,4,5,6,7,8,9,10,11,12,13]"
      ],
      "metadata": {
        "id": "ZP-8LXOdG0wX"
      },
      "execution_count": null,
      "outputs": []
    },
    {
      "cell_type": "code",
      "source": [
        "list_c[:10:]"
      ],
      "metadata": {
        "colab": {
          "base_uri": "https://localhost:8080/"
        },
        "id": "6Ph4N4jpHT0n",
        "outputId": "5affb981-01dd-4d39-cd33-d73c09754b86"
      },
      "execution_count": null,
      "outputs": [
        {
          "output_type": "execute_result",
          "data": {
            "text/plain": [
              "[1, 2, 3, 4, 5, 6, 7, 8, 9, 10]"
            ]
          },
          "metadata": {},
          "execution_count": 49
        }
      ]
    },
    {
      "cell_type": "code",
      "source": [
        "list_c[:10:2]"
      ],
      "metadata": {
        "colab": {
          "base_uri": "https://localhost:8080/"
        },
        "id": "DMD1J53wHX85",
        "outputId": "cab25f1d-072b-477a-906d-4cc3cb587668"
      },
      "execution_count": null,
      "outputs": [
        {
          "output_type": "execute_result",
          "data": {
            "text/plain": [
              "[1, 3, 5, 7, 9]"
            ]
          },
          "metadata": {},
          "execution_count": 50
        }
      ]
    },
    {
      "cell_type": "code",
      "source": [
        "list_c[::-1]"
      ],
      "metadata": {
        "colab": {
          "base_uri": "https://localhost:8080/"
        },
        "id": "aKUJryw2HbTX",
        "outputId": "f1d9fdc2-1132-478d-c708-5f6d14819e0c"
      },
      "execution_count": null,
      "outputs": [
        {
          "output_type": "execute_result",
          "data": {
            "text/plain": [
              "[13, 12, 11, 10, 9, 8, 7, 6, 5, 4, 3, 2, 1]"
            ]
          },
          "metadata": {},
          "execution_count": 51
        }
      ]
    },
    {
      "cell_type": "markdown",
      "source": [
        "### `range()`"
      ],
      "metadata": {
        "id": "wdWC6edMH0FD"
      }
    },
    {
      "cell_type": "code",
      "source": [
        "a = list(range(21)) # จำนวน 21 ตัว"
      ],
      "metadata": {
        "id": "f3jQi_MHHgmh"
      },
      "execution_count": null,
      "outputs": []
    },
    {
      "cell_type": "code",
      "source": [
        "a"
      ],
      "metadata": {
        "colab": {
          "base_uri": "https://localhost:8080/"
        },
        "id": "Rr8XaXBjIJjS",
        "outputId": "762ff090-ebd9-4338-d67e-08ff5ec88ee7"
      },
      "execution_count": null,
      "outputs": [
        {
          "output_type": "execute_result",
          "data": {
            "text/plain": [
              "[0, 1, 2, 3, 4, 5, 6, 7, 8, 9, 10, 11, 12, 13, 14, 15, 16, 17, 18, 19, 20]"
            ]
          },
          "metadata": {},
          "execution_count": 56
        }
      ]
    },
    {
      "cell_type": "code",
      "source": [
        "list(range(1,21)) #เหมือนจุดเริ่มต้นคือ 1 แต่ 21 คือวงกลมโปร่ง"
      ],
      "metadata": {
        "colab": {
          "base_uri": "https://localhost:8080/"
        },
        "id": "xRbnYkNZIMDx",
        "outputId": "3a3507af-6084-4b45-b962-f529401f7df9"
      },
      "execution_count": null,
      "outputs": [
        {
          "output_type": "execute_result",
          "data": {
            "text/plain": [
              "[1, 2, 3, 4, 5, 6, 7, 8, 9, 10, 11, 12, 13, 14, 15, 16, 17, 18, 19, 20]"
            ]
          },
          "metadata": {},
          "execution_count": 57
        }
      ]
    },
    {
      "cell_type": "markdown",
      "source": [
        "## HW2 \n",
        "คำนวณเวลาเป็นวินาทีของเวลาต่อไปนี้โดยใช้คำสั่ง split() ช่วย (print ออกมาให้สวยงาม)\n",
        "\n",
        "- 12:30:15\n",
        "- 13:41:07\n",
        "- 09:11:50\n",
        "- 21:30:15\n",
        "- 03:10:15"
      ],
      "metadata": {
        "id": "U5sTbLMPI-6T"
      }
    },
    {
      "cell_type": "code",
      "source": [
        "#01:02:03\n",
        "\n",
        "a = (1*60*60) + (2*60) + 3\n",
        "print(f'01:02:03 แปลงเป็นวินาที ได้ {a} วินาที')"
      ],
      "metadata": {
        "colab": {
          "base_uri": "https://localhost:8080/"
        },
        "id": "kB86bGL9Iu5W",
        "outputId": "46387c9c-8823-4dee-81c5-ed9df67eab12"
      },
      "execution_count": null,
      "outputs": [
        {
          "output_type": "stream",
          "name": "stdout",
          "text": [
            "01:02:03 แปลงเป็นวินาที ได้ 3723 วินาที\n"
          ]
        }
      ]
    },
    {
      "cell_type": "code",
      "source": [
        "#12:30:15\n",
        "\n",
        "a1  = '12:30:15'.split( ':' )\n",
        "print(a1)\n",
        "time1 = (12*60*60) + (30*60) + 15\n",
        "print(f'สรุปได้ว่าเวลา 12:30:15 แปลงเป็นวินาทีได้ {time1} วินาที')"
      ],
      "metadata": {
        "colab": {
          "base_uri": "https://localhost:8080/"
        },
        "id": "RkXNhn4bNELx",
        "outputId": "b7b99208-e566-4347-94a1-bbb593c3a534"
      },
      "execution_count": null,
      "outputs": [
        {
          "output_type": "stream",
          "name": "stdout",
          "text": [
            "['12', '30', '15']\n",
            "สรุปได้ว่าเวลา 12:30:15 แปลงเป็นวินาทีได้ 45015 วินาที\n"
          ]
        }
      ]
    },
    {
      "cell_type": "code",
      "source": [
        "#13:41:07\n",
        "\n",
        "a2  = '13:41:07'.split( ':' )\n",
        "print(a2)\n",
        "time2 = (13*60*60) + (41*60) + 7\n",
        "print(f'สรุปได้ว่าเวลา 13:41:07 แปลงเป็นวินาทีได้ {time2} วินาที')"
      ],
      "metadata": {
        "id": "HgXSQPtr9JnZ",
        "outputId": "3d72fe3e-f93e-45a8-da1b-df9093d764b2",
        "colab": {
          "base_uri": "https://localhost:8080/"
        }
      },
      "execution_count": null,
      "outputs": [
        {
          "output_type": "stream",
          "name": "stdout",
          "text": [
            "['13', '41', '07']\n",
            "สรุปได้ว่าเวลา 13:41:07 แปลงเป็นวินาทีได้ 49267 วินาที\n"
          ]
        }
      ]
    },
    {
      "cell_type": "code",
      "source": [
        "#09:11:50\n",
        "\n",
        "a3  = '09:11:50'.split( ':' )\n",
        "print(a3)\n",
        "time3 = (9*60*60) + (11*60) + 50\n",
        "print(f'สรุปได้ว่าเวลา 09:11:50 แปลงเป็นวินาทีได้ {time3} วินาที')"
      ],
      "metadata": {
        "id": "GvSoO8VM9imK",
        "outputId": "913c6198-4b6f-4969-cdee-546ba0bacd65",
        "colab": {
          "base_uri": "https://localhost:8080/"
        }
      },
      "execution_count": null,
      "outputs": [
        {
          "output_type": "stream",
          "name": "stdout",
          "text": [
            "['09', '11', '50']\n",
            "สรุปได้ว่าเวลา 09:11:50 แปลงเป็นวินาทีได้ 33110 วินาที\n"
          ]
        }
      ]
    },
    {
      "cell_type": "code",
      "source": [
        "#21:30:15\n",
        "\n",
        "a4  = '21:30:15'.split( ':' )\n",
        "print(a4)\n",
        "time4 = (21*60*60) + (30*60) + 15\n",
        "print(f'สรุปได้ว่าเวลา 21:30:15 แปลงเป็นวินาทีได้ {time4} วินาที')"
      ],
      "metadata": {
        "id": "uocOKoFi9nrA",
        "outputId": "3cddf50b-7509-4eb4-fd6d-f83afb4af7c6",
        "colab": {
          "base_uri": "https://localhost:8080/"
        }
      },
      "execution_count": null,
      "outputs": [
        {
          "output_type": "stream",
          "name": "stdout",
          "text": [
            "['21', '30', '15']\n",
            "สรุปได้ว่าเวลา 21:30:15 แปลงเป็นวินาทีได้ 77415 วินาที\n"
          ]
        }
      ]
    },
    {
      "cell_type": "code",
      "source": [
        "#03:10:15\n",
        "\n",
        "a5  = '03:10:15'.split( ':' )\n",
        "print(a5)\n",
        "time5 = (3*60*60) + (10*60) + 15\n",
        "print(f'สรุปได้ว่าเวลา 03:10:15 แปลงเป็นวินาทีได้ {time5} วินาที')"
      ],
      "metadata": {
        "id": "OLCWpv1P9org",
        "outputId": "029dee6b-6af9-4813-f812-be16d2c8b021",
        "colab": {
          "base_uri": "https://localhost:8080/"
        }
      },
      "execution_count": null,
      "outputs": [
        {
          "output_type": "stream",
          "name": "stdout",
          "text": [
            "['03', '10', '15']\n",
            "สรุปได้ว่าเวลา 03:10:15 แปลงเป็นวินาทีได้ 11415 วินาที\n"
          ]
        }
      ]
    },
    {
      "cell_type": "code",
      "source": [
        "ex = '12:30:15'\n",
        "print(ex)"
      ],
      "metadata": {
        "colab": {
          "base_uri": "https://localhost:8080/"
        },
        "id": "Tz4zSwYMM3Mt",
        "outputId": "132048f5-0ef0-4a37-b3a9-569535130bb7"
      },
      "execution_count": null,
      "outputs": [
        {
          "output_type": "stream",
          "name": "stdout",
          "text": [
            "12:30:15\n"
          ]
        }
      ]
    },
    {
      "cell_type": "code",
      "source": [
        "sp_ex = ex.split(':')\n",
        "print(sp_ex)"
      ],
      "metadata": {
        "colab": {
          "base_uri": "https://localhost:8080/"
        },
        "id": "0zKAkK8-NBBc",
        "outputId": "284fbe57-302a-4c33-a4cb-35fc59b8f916"
      },
      "execution_count": null,
      "outputs": [
        {
          "output_type": "stream",
          "name": "stdout",
          "text": [
            "['12', '30', '15']\n"
          ]
        }
      ]
    },
    {
      "cell_type": "code",
      "source": [
        "total_sec = (int(sp_ex[0])*60*60) + (int(sp_ex[1])*60) + int(sp_ex[2])\n",
        "print(total_sec)"
      ],
      "metadata": {
        "colab": {
          "base_uri": "https://localhost:8080/"
        },
        "id": "rhg-qGKoNPKy",
        "outputId": "3f1e7386-42f0-4601-bfbe-7a7fe5a7aae5"
      },
      "execution_count": null,
      "outputs": [
        {
          "output_type": "stream",
          "name": "stdout",
          "text": [
            "45015\n"
          ]
        }
      ]
    },
    {
      "cell_type": "code",
      "source": [
        "print(f'เวลา {ex} สามารถแปลงเป็นหน่วยวินาทีได้ {total_sec,} วินาที')"
      ],
      "metadata": {
        "colab": {
          "base_uri": "https://localhost:8080/"
        },
        "id": "llJNV6JbOg6K",
        "outputId": "f1d0f37d-ba8b-4635-d85c-9b7700a391d8"
      },
      "execution_count": null,
      "outputs": [
        {
          "output_type": "stream",
          "name": "stdout",
          "text": [
            "เวลา 12:30:15 สามารถแปลงเป็นหน่วยวินาทีได้ (45015,) วินาที\n"
          ]
        }
      ]
    },
    {
      "cell_type": "markdown",
      "source": [
        "## Dictionary"
      ],
      "metadata": {
        "id": "CfEEziaoO9Mx"
      }
    },
    {
      "cell_type": "markdown",
      "source": [
        "- คล้าย list()\n",
        "- index เป็นอะไรก็ได้ ไม่จำเป็นต้องเป็นตัวเลขลำดับ\n",
        "- ลำดับไม่มีความสำคัญ"
      ],
      "metadata": {
        "id": "sn6DU1DuPPSE"
      }
    },
    {
      "cell_type": "code",
      "source": [
        "dict_a = {1:'Happy','N':'New','2022':'Year'} # {} curly brackets"
      ],
      "metadata": {
        "id": "lyD6Y82RPdyZ"
      },
      "execution_count": null,
      "outputs": []
    },
    {
      "cell_type": "markdown",
      "source": [
        "### การชี้ สมาชิกใน Dictionary"
      ],
      "metadata": {
        "id": "1ZATPV2BRASz"
      }
    },
    {
      "cell_type": "code",
      "source": [
        "dict_a[1]"
      ],
      "metadata": {
        "colab": {
          "base_uri": "https://localhost:8080/",
          "height": 35
        },
        "id": "q3wLbFKTPFA7",
        "outputId": "03f4a3b8-612f-4bd8-825b-b179e6b75c85"
      },
      "execution_count": null,
      "outputs": [
        {
          "output_type": "execute_result",
          "data": {
            "application/vnd.google.colaboratory.intrinsic+json": {
              "type": "string"
            },
            "text/plain": [
              "'Happy'"
            ]
          },
          "metadata": {},
          "execution_count": 11
        }
      ]
    },
    {
      "cell_type": "code",
      "source": [
        "dict_a['N']"
      ],
      "metadata": {
        "colab": {
          "base_uri": "https://localhost:8080/",
          "height": 35
        },
        "id": "fx6ckM7kQfSb",
        "outputId": "a5366710-88d7-4ec6-b780-ecb9d4efc41a"
      },
      "execution_count": null,
      "outputs": [
        {
          "output_type": "execute_result",
          "data": {
            "application/vnd.google.colaboratory.intrinsic+json": {
              "type": "string"
            },
            "text/plain": [
              "'New'"
            ]
          },
          "metadata": {},
          "execution_count": 12
        }
      ]
    },
    {
      "cell_type": "code",
      "source": [
        "dict_a.keys()"
      ],
      "metadata": {
        "colab": {
          "base_uri": "https://localhost:8080/"
        },
        "id": "h3G96XjIQjCy",
        "outputId": "2168f83a-fb01-4356-988b-c175c36d532a"
      },
      "execution_count": null,
      "outputs": [
        {
          "output_type": "execute_result",
          "data": {
            "text/plain": [
              "dict_keys([1, 'N', '2022'])"
            ]
          },
          "metadata": {},
          "execution_count": 13
        }
      ]
    },
    {
      "cell_type": "code",
      "source": [
        "dict_a.values()"
      ],
      "metadata": {
        "colab": {
          "base_uri": "https://localhost:8080/"
        },
        "id": "4iIIx7yjQuO_",
        "outputId": "7dd050b0-718f-40bb-aa3d-c1863c563150"
      },
      "execution_count": null,
      "outputs": [
        {
          "output_type": "execute_result",
          "data": {
            "text/plain": [
              "dict_values(['Happy', 'New', 'Year'])"
            ]
          },
          "metadata": {},
          "execution_count": 15
        }
      ]
    },
    {
      "cell_type": "markdown",
      "source": [
        "### การเพิ่มสมาชิกลงไปใน Dictionary"
      ],
      "metadata": {
        "id": "9sgBZV7hRLp8"
      }
    },
    {
      "cell_type": "code",
      "source": [
        "dict_a[7] = 3.14"
      ],
      "metadata": {
        "id": "KnXtRONKRSWA"
      },
      "execution_count": null,
      "outputs": []
    },
    {
      "cell_type": "code",
      "source": [
        "dict_a"
      ],
      "metadata": {
        "colab": {
          "base_uri": "https://localhost:8080/"
        },
        "id": "QS5xKmkyRY_W",
        "outputId": "35b42414-37ae-4333-fd31-0506b630a326"
      },
      "execution_count": null,
      "outputs": [
        {
          "output_type": "execute_result",
          "data": {
            "text/plain": [
              "{1: 'Happy', '2022': 'Year', 7: 3.14, 'N': 'New'}"
            ]
          },
          "metadata": {},
          "execution_count": 17
        }
      ]
    },
    {
      "cell_type": "code",
      "source": [
        "dict_a['N'] = 'NNNNEEEEWWWW'"
      ],
      "metadata": {
        "id": "JZjH3RAbRj1U"
      },
      "execution_count": null,
      "outputs": []
    },
    {
      "cell_type": "code",
      "source": [
        "dict_a"
      ],
      "metadata": {
        "colab": {
          "base_uri": "https://localhost:8080/"
        },
        "id": "zbSpCmRrRtSe",
        "outputId": "be5608d0-b1f6-4d5b-c91b-b55e4b00e95a"
      },
      "execution_count": null,
      "outputs": [
        {
          "output_type": "execute_result",
          "data": {
            "text/plain": [
              "{1: 'Happy', '2022': 'Year', 7: 3.14, 'N': 'NNNNEEEEWWWW'}"
            ]
          },
          "metadata": {},
          "execution_count": 19
        }
      ]
    },
    {
      "cell_type": "markdown",
      "source": [
        "## Numpy Array\n",
        "![267351341_446006133686289_4855193187751008587_n.png](data:image/png;base64,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)"
      ],
      "metadata": {
        "id": "YnoqVfaURcS3"
      }
    },
    {
      "cell_type": "markdown",
      "source": [
        "- เก็บได้แต่ตัวเลข\n",
        "- อ้างอิงโดยใช้ พิกัด (2 มิติ ก็ต้องเป็น Matrix) "
      ],
      "metadata": {
        "id": "ANBfU1xmUS_0"
      }
    },
    {
      "cell_type": "markdown",
      "source": [
        "### 1D array"
      ],
      "metadata": {
        "id": "JTXAdWtWYJek"
      }
    },
    {
      "cell_type": "code",
      "source": [
        "import numpy"
      ],
      "metadata": {
        "id": "NF7Qx12AUtEP"
      },
      "execution_count": null,
      "outputs": []
    },
    {
      "cell_type": "code",
      "source": [
        "list_A = [1,2,3,4,5]"
      ],
      "metadata": {
        "id": "M2lh0h9UVuZU"
      },
      "execution_count": null,
      "outputs": []
    },
    {
      "cell_type": "code",
      "source": [
        "arr_a = numpy.array(list_A)"
      ],
      "metadata": {
        "id": "_uZvwgpuVSj3"
      },
      "execution_count": null,
      "outputs": []
    },
    {
      "cell_type": "code",
      "source": [
        "arr_a"
      ],
      "metadata": {
        "colab": {
          "base_uri": "https://localhost:8080/"
        },
        "id": "aEQxyPEJVgo1",
        "outputId": "ae077b74-c22e-4404-fda8-fb59bf37f8e0"
      },
      "execution_count": null,
      "outputs": [
        {
          "output_type": "execute_result",
          "data": {
            "text/plain": [
              "array([1, 2, 3, 4, 5])"
            ]
          },
          "metadata": {},
          "execution_count": 90
        }
      ]
    },
    {
      "cell_type": "code",
      "source": [
        "list_A"
      ],
      "metadata": {
        "colab": {
          "base_uri": "https://localhost:8080/"
        },
        "id": "SEMHo-UfWCqW",
        "outputId": "fe563913-82cf-4618-f1be-340b8dca7198"
      },
      "execution_count": null,
      "outputs": [
        {
          "output_type": "execute_result",
          "data": {
            "text/plain": [
              "[1, 2, 3, 4, 5]"
            ]
          },
          "metadata": {},
          "execution_count": 91
        }
      ]
    },
    {
      "cell_type": "code",
      "source": [
        "arr_a[0]"
      ],
      "metadata": {
        "colab": {
          "base_uri": "https://localhost:8080/"
        },
        "id": "AbYt_G5GVod9",
        "outputId": "1d0bca84-b628-415c-c34e-cfb6a14b80f7"
      },
      "execution_count": null,
      "outputs": [
        {
          "output_type": "execute_result",
          "data": {
            "text/plain": [
              "1"
            ]
          },
          "metadata": {},
          "execution_count": 92
        }
      ]
    },
    {
      "cell_type": "code",
      "source": [
        "list_A[0]"
      ],
      "metadata": {
        "colab": {
          "base_uri": "https://localhost:8080/"
        },
        "id": "bijUyCmbWGpD",
        "outputId": "4dd20eec-c509-4eee-ba5c-1eb1e0ec0d40"
      },
      "execution_count": null,
      "outputs": [
        {
          "output_type": "execute_result",
          "data": {
            "text/plain": [
              "1"
            ]
          },
          "metadata": {},
          "execution_count": 93
        }
      ]
    },
    {
      "cell_type": "code",
      "source": [
        "5*arr_a # Matrix (scalar multiplication)"
      ],
      "metadata": {
        "colab": {
          "base_uri": "https://localhost:8080/"
        },
        "id": "K158VspxWJN3",
        "outputId": "d6921194-fc43-4887-87e5-8d151f338720"
      },
      "execution_count": null,
      "outputs": [
        {
          "output_type": "execute_result",
          "data": {
            "text/plain": [
              "array([ 5, 10, 15, 20, 25])"
            ]
          },
          "metadata": {},
          "execution_count": 94
        }
      ]
    },
    {
      "cell_type": "code",
      "source": [
        "5*list_A"
      ],
      "metadata": {
        "colab": {
          "base_uri": "https://localhost:8080/"
        },
        "id": "0qqvRXXuWips",
        "outputId": "2df473e5-1c6b-4239-d71b-1fd1510fdfcd"
      },
      "execution_count": null,
      "outputs": [
        {
          "output_type": "execute_result",
          "data": {
            "text/plain": [
              "[1, 2, 3, 4, 5, 1, 2, 3, 4, 5, 1, 2, 3, 4, 5, 1, 2, 3, 4, 5, 1, 2, 3, 4, 5]"
            ]
          },
          "metadata": {},
          "execution_count": 95
        }
      ]
    },
    {
      "cell_type": "code",
      "source": [
        "arr_b = numpy.array([10,20,30,40,50])"
      ],
      "metadata": {
        "id": "preZ8bkkXKUC"
      },
      "execution_count": null,
      "outputs": []
    },
    {
      "cell_type": "code",
      "source": [
        "print(arr_a)"
      ],
      "metadata": {
        "colab": {
          "base_uri": "https://localhost:8080/"
        },
        "id": "4_0-ahe7XXjn",
        "outputId": "20a30d86-1e3f-4f22-8229-8a8ebe7b3afe"
      },
      "execution_count": null,
      "outputs": [
        {
          "output_type": "stream",
          "name": "stdout",
          "text": [
            "[1 2 3 4 5]\n"
          ]
        }
      ]
    },
    {
      "cell_type": "code",
      "source": [
        "arr_a + arr_b"
      ],
      "metadata": {
        "colab": {
          "base_uri": "https://localhost:8080/"
        },
        "id": "Cex4PaSCXo4f",
        "outputId": "5ecc5e59-08d1-44e7-cfb6-5fdf3238b9f5"
      },
      "execution_count": null,
      "outputs": [
        {
          "output_type": "execute_result",
          "data": {
            "text/plain": [
              "array([11, 22, 33, 44, 55])"
            ]
          },
          "metadata": {},
          "execution_count": 100
        }
      ]
    },
    {
      "cell_type": "code",
      "source": [
        "arr_a.shape"
      ],
      "metadata": {
        "colab": {
          "base_uri": "https://localhost:8080/"
        },
        "id": "b-4jyTY0iSIU",
        "outputId": "cec7242d-526e-45e2-f0ed-63876bfa0bd7"
      },
      "execution_count": null,
      "outputs": [
        {
          "output_type": "execute_result",
          "data": {
            "text/plain": [
              "(5,)"
            ]
          },
          "metadata": {},
          "execution_count": 101
        }
      ]
    },
    {
      "cell_type": "markdown",
      "source": [
        "### 2D array"
      ],
      "metadata": {
        "id": "V3DDdqbIYCTT"
      }
    },
    {
      "cell_type": "code",
      "source": [
        "import numpy as np"
      ],
      "metadata": {
        "id": "ykZcK6PzYdYN"
      },
      "execution_count": null,
      "outputs": []
    },
    {
      "cell_type": "code",
      "source": [
        "arr2_z = np.array([[1,2,3],[4,5,6]])"
      ],
      "metadata": {
        "id": "H72QN964YabZ"
      },
      "execution_count": null,
      "outputs": []
    },
    {
      "cell_type": "code",
      "source": [
        "arr2_z"
      ],
      "metadata": {
        "colab": {
          "base_uri": "https://localhost:8080/"
        },
        "id": "p9eKjkMBZAZx",
        "outputId": "f6e7de1e-4b53-429b-f8a5-c0e9ea210cb5"
      },
      "execution_count": null,
      "outputs": [
        {
          "output_type": "execute_result",
          "data": {
            "text/plain": [
              "array([[1, 2, 3],\n",
              "       [4, 5, 6]])"
            ]
          },
          "metadata": {},
          "execution_count": 43
        }
      ]
    },
    {
      "cell_type": "code",
      "source": [
        "arr2_z.shape"
      ],
      "metadata": {
        "colab": {
          "base_uri": "https://localhost:8080/"
        },
        "id": "KpEQrvewZpsm",
        "outputId": "05dc2a72-b2fb-4777-effc-798906d09941"
      },
      "execution_count": null,
      "outputs": [
        {
          "output_type": "execute_result",
          "data": {
            "text/plain": [
              "(2, 3)"
            ]
          },
          "metadata": {},
          "execution_count": 44
        }
      ]
    },
    {
      "cell_type": "markdown",
      "source": [
        "### `np.zwros()`"
      ],
      "metadata": {
        "id": "0q7KU_vtaW8u"
      }
    },
    {
      "cell_type": "code",
      "source": [
        "arr2_3_5_0 = np.zeros((3,5))"
      ],
      "metadata": {
        "id": "fPYOYIAvZMMI"
      },
      "execution_count": null,
      "outputs": []
    },
    {
      "cell_type": "code",
      "source": [
        "arr2_3_5_0"
      ],
      "metadata": {
        "colab": {
          "base_uri": "https://localhost:8080/"
        },
        "id": "RCoFMOXZaNIq",
        "outputId": "a0f44656-8d91-4d9c-e632-4ee100b72f32"
      },
      "execution_count": null,
      "outputs": [
        {
          "output_type": "execute_result",
          "data": {
            "text/plain": [
              "array([[0., 0., 0., 0., 0.],\n",
              "       [0., 0., 0., 0., 0.],\n",
              "       [0., 0., 0., 0., 0.]])"
            ]
          },
          "metadata": {},
          "execution_count": 46
        }
      ]
    },
    {
      "cell_type": "code",
      "source": [
        "arr2_3_5_0[1,2]=9 #กำหนดค่า"
      ],
      "metadata": {
        "id": "TJ49Kx4-ag02"
      },
      "execution_count": null,
      "outputs": []
    },
    {
      "cell_type": "code",
      "source": [
        "arr2_3_5_0[1,2] #ชี้"
      ],
      "metadata": {
        "colab": {
          "base_uri": "https://localhost:8080/"
        },
        "id": "quCeeoXbaoL7",
        "outputId": "f1092e7b-677e-4927-b8d3-dbc6aa2040f8"
      },
      "execution_count": null,
      "outputs": [
        {
          "output_type": "execute_result",
          "data": {
            "text/plain": [
              "9.0"
            ]
          },
          "metadata": {},
          "execution_count": 77
        }
      ]
    },
    {
      "cell_type": "code",
      "source": [
        "print(list_A) # เปลี่ยนค่าใน list()\n",
        "list_A[-1] = 'Christmas'\n",
        "print(list_A)"
      ],
      "metadata": {
        "colab": {
          "base_uri": "https://localhost:8080/"
        },
        "id": "QyT5iOLBnBK6",
        "outputId": "fe75f4b4-8183-4a82-cfb9-aec354b2df93"
      },
      "execution_count": null,
      "outputs": [
        {
          "output_type": "stream",
          "name": "stdout",
          "text": [
            "[1, 2, 3, 4, 5]\n",
            "[1, 2, 3, 4, 'Christmas']\n"
          ]
        }
      ]
    },
    {
      "cell_type": "markdown",
      "source": [
        "### `np.one()`"
      ],
      "metadata": {
        "id": "C5Wr0Xmhb5yq"
      }
    },
    {
      "cell_type": "code",
      "source": [
        "arr2_4_5_1 = np.ones((4,5))"
      ],
      "metadata": {
        "id": "yNpDKFFucCEk"
      },
      "execution_count": null,
      "outputs": []
    },
    {
      "cell_type": "code",
      "source": [
        "arr2_4_5_1"
      ],
      "metadata": {
        "colab": {
          "base_uri": "https://localhost:8080/"
        },
        "id": "yURzRa-DcHyu",
        "outputId": "5e6b487c-4781-4cd2-8704-2e9b46cfe88d"
      },
      "execution_count": null,
      "outputs": [
        {
          "output_type": "execute_result",
          "data": {
            "text/plain": [
              "array([[1., 1., 1., 1., 1.],\n",
              "       [1., 1., 1., 1., 1.],\n",
              "       [1., 1., 1., 1., 1.],\n",
              "       [1., 1., 1., 1., 1.]])"
            ]
          },
          "metadata": {},
          "execution_count": 54
        }
      ]
    },
    {
      "cell_type": "code",
      "source": [
        "arr2_4_5_200 = 200*np.ones((4,5))"
      ],
      "metadata": {
        "id": "t2qmehnjckI-"
      },
      "execution_count": null,
      "outputs": []
    },
    {
      "cell_type": "code",
      "source": [
        "arr2_4_5_200"
      ],
      "metadata": {
        "colab": {
          "base_uri": "https://localhost:8080/"
        },
        "id": "imA-1a73cu6l",
        "outputId": "b4086110-535b-4386-e913-d17cd5d09703"
      },
      "execution_count": null,
      "outputs": [
        {
          "output_type": "execute_result",
          "data": {
            "text/plain": [
              "array([[200., 200., 200., 200., 200.],\n",
              "       [200., 200., 200., 200., 200.],\n",
              "       [200., 200., 200., 200., 200.],\n",
              "       [200., 200., 200., 200., 200.]])"
            ]
          },
          "metadata": {},
          "execution_count": 56
        }
      ]
    },
    {
      "cell_type": "markdown",
      "source": [
        "### Matrix operations"
      ],
      "metadata": {
        "id": "Qab2rdOHcyzL"
      }
    },
    {
      "cell_type": "markdown",
      "source": [
        "### การบวก ลบ matrix $M\\pm N$ บวกลบตัวที่อยู่ตำแหน่งเดียวกัน"
      ],
      "metadata": {
        "id": "5qZ6b-aDc84n"
      }
    },
    {
      "cell_type": "code",
      "source": [
        "arr2_4_5_200 + arr2_3_5_0 #การบวก ลบ matrix shape ต้องเท่ากัน"
      ],
      "metadata": {
        "colab": {
          "base_uri": "https://localhost:8080/",
          "height": 165
        },
        "id": "rpmJ4Reqc_4j",
        "outputId": "dc8c9242-4b17-4837-f6ba-007e659078ac"
      },
      "execution_count": null,
      "outputs": [
        {
          "output_type": "error",
          "ename": "ValueError",
          "evalue": "ignored",
          "traceback": [
            "\u001b[0;31m---------------------------------------------------------------------------\u001b[0m",
            "\u001b[0;31mValueError\u001b[0m                                Traceback (most recent call last)",
            "\u001b[0;32m<ipython-input-57-c43a474e7a00>\u001b[0m in \u001b[0;36m<module>\u001b[0;34m()\u001b[0m\n\u001b[0;32m----> 1\u001b[0;31m \u001b[0marr2_4_5_200\u001b[0m \u001b[0;34m+\u001b[0m \u001b[0marr2_3_5_0\u001b[0m\u001b[0;34m\u001b[0m\u001b[0;34m\u001b[0m\u001b[0m\n\u001b[0m",
            "\u001b[0;31mValueError\u001b[0m: operands could not be broadcast together with shapes (4,5) (3,5) "
          ]
        }
      ]
    },
    {
      "cell_type": "code",
      "source": [
        "arr2_4_5_200 + arr2_4_5_1"
      ],
      "metadata": {
        "colab": {
          "base_uri": "https://localhost:8080/"
        },
        "id": "kWhgxnjDdTLc",
        "outputId": "de8f063d-3f67-4f78-f6db-258f015f920d"
      },
      "execution_count": null,
      "outputs": [
        {
          "output_type": "execute_result",
          "data": {
            "text/plain": [
              "array([[201., 201., 201., 201., 201.],\n",
              "       [201., 201., 201., 201., 201.],\n",
              "       [201., 201., 201., 201., 201.],\n",
              "       [201., 201., 201., 201., 201.]])"
            ]
          },
          "metadata": {},
          "execution_count": 58
        }
      ]
    },
    {
      "cell_type": "markdown",
      "source": [
        "### การคูณ matrix\n",
        "\n",
        "- $aM$ scalar คูณ Matrix (scalarคูณกระจายเข้าไปทุกตัวของ matrix)\n",
        "- $M\\times N$ Matrix คูณ Matrix (แถวคูณหลัก)\n",
        "\n",
        "$a$M"
      ],
      "metadata": {
        "id": "QfE5G-_mdaKC"
      }
    },
    {
      "cell_type": "code",
      "source": [
        "5*arr_a # Matrix (scalar multiplication)"
      ],
      "metadata": {
        "colab": {
          "base_uri": "https://localhost:8080/"
        },
        "id": "JSh3LicgecoK",
        "outputId": "3724fdde-38bd-42be-c474-a37e9f52d002"
      },
      "execution_count": null,
      "outputs": [
        {
          "output_type": "execute_result",
          "data": {
            "text/plain": [
              "array([ 5, 10, 15, 20, 25])"
            ]
          },
          "metadata": {},
          "execution_count": 59
        }
      ]
    },
    {
      "cell_type": "markdown",
      "source": [
        "$M\\times N$ (dot product)\n",
        "- (m,n) $]timest$ (n,o) = (m,o) (Shape)\n",
        "![267969410_754335605957832_477738611213284868_n.png](data:image/png;base64,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)"
      ],
      "metadata": {
        "id": "r0EzUdK1e06W"
      }
    },
    {
      "cell_type": "code",
      "source": [
        "mat_a = np.array([[2,3,5],[4,5,6]])\n",
        "mat_b = np.array([[1,2,5],[2,4,-7]])\n",
        "mat_c = np.array([[2,3],[4,6],[7,9]])"
      ],
      "metadata": {
        "id": "4-wuUDP1fsfb"
      },
      "execution_count": null,
      "outputs": []
    },
    {
      "cell_type": "code",
      "source": [
        "mat_a"
      ],
      "metadata": {
        "colab": {
          "base_uri": "https://localhost:8080/"
        },
        "id": "kH9ZujczgMvQ",
        "outputId": "f5933830-22e5-4afe-87be-a28fb5b09711"
      },
      "execution_count": null,
      "outputs": [
        {
          "output_type": "execute_result",
          "data": {
            "text/plain": [
              "array([[2, 3, 5],\n",
              "       [4, 5, 6]])"
            ]
          },
          "metadata": {},
          "execution_count": 66
        }
      ]
    },
    {
      "cell_type": "code",
      "source": [
        "mat_b"
      ],
      "metadata": {
        "colab": {
          "base_uri": "https://localhost:8080/"
        },
        "id": "b7kIOoa9gOx6",
        "outputId": "788334f8-ab4b-4ebb-fcae-37fc1cd206cb"
      },
      "execution_count": null,
      "outputs": [
        {
          "output_type": "execute_result",
          "data": {
            "text/plain": [
              "array([[ 1,  2,  5],\n",
              "       [ 2,  4, -7]])"
            ]
          },
          "metadata": {},
          "execution_count": 67
        }
      ]
    },
    {
      "cell_type": "code",
      "source": [
        "mat_c"
      ],
      "metadata": {
        "colab": {
          "base_uri": "https://localhost:8080/"
        },
        "id": "VxFkHyZWgbh9",
        "outputId": "2c27a8c6-016b-497e-ea71-5945f7045a38"
      },
      "execution_count": null,
      "outputs": [
        {
          "output_type": "execute_result",
          "data": {
            "text/plain": [
              "array([[2, 3],\n",
              "       [4, 6],\n",
              "       [7, 9]])"
            ]
          },
          "metadata": {},
          "execution_count": 68
        }
      ]
    },
    {
      "cell_type": "markdown",
      "source": [
        "axc, bxc, "
      ],
      "metadata": {
        "id": "G-qfgcL8geTj"
      }
    },
    {
      "cell_type": "code",
      "source": [
        "np.dot(mat_a,mat_c)"
      ],
      "metadata": {
        "colab": {
          "base_uri": "https://localhost:8080/"
        },
        "id": "pzppi0CbgkSf",
        "outputId": "1ec2fd1f-6e29-425e-fcca-fed19cbd2107"
      },
      "execution_count": null,
      "outputs": [
        {
          "output_type": "execute_result",
          "data": {
            "text/plain": [
              "array([[51, 69],\n",
              "       [70, 96]])"
            ]
          },
          "metadata": {},
          "execution_count": 69
        }
      ]
    },
    {
      "cell_type": "code",
      "source": [
        "np.dot(mat_b,mat_c)"
      ],
      "metadata": {
        "colab": {
          "base_uri": "https://localhost:8080/"
        },
        "id": "aX8CNirVgtOF",
        "outputId": "1df9f2a9-a800-4b49-af86-b1ac7d76e5a9"
      },
      "execution_count": null,
      "outputs": [
        {
          "output_type": "execute_result",
          "data": {
            "text/plain": [
              "array([[ 45,  60],\n",
              "       [-29, -33]])"
            ]
          },
          "metadata": {},
          "execution_count": 70
        }
      ]
    },
    {
      "cell_type": "markdown",
      "source": [
        "cxa, cxb"
      ],
      "metadata": {
        "id": "nM4I4T5Gg9cR"
      }
    },
    {
      "cell_type": "code",
      "source": [
        "np.dot(mat_c,mat_a)"
      ],
      "metadata": {
        "colab": {
          "base_uri": "https://localhost:8080/"
        },
        "id": "8MCTXCAahBRG",
        "outputId": "89455690-5866-4896-d75c-beb264836ef3"
      },
      "execution_count": null,
      "outputs": [
        {
          "output_type": "execute_result",
          "data": {
            "text/plain": [
              "array([[16, 21, 28],\n",
              "       [32, 42, 56],\n",
              "       [50, 66, 89]])"
            ]
          },
          "metadata": {},
          "execution_count": 72
        }
      ]
    },
    {
      "cell_type": "code",
      "source": [
        "np.dot(mat_c,mat_b)"
      ],
      "metadata": {
        "colab": {
          "base_uri": "https://localhost:8080/"
        },
        "id": "0V1n_ghchE2n",
        "outputId": "bcf0da01-7d12-4236-a168-32023bd0b462"
      },
      "execution_count": null,
      "outputs": [
        {
          "output_type": "execute_result",
          "data": {
            "text/plain": [
              "array([[  8,  16, -11],\n",
              "       [ 16,  32, -22],\n",
              "       [ 25,  50, -28]])"
            ]
          },
          "metadata": {},
          "execution_count": 73
        }
      ]
    },
    {
      "cell_type": "code",
      "source": [
        "mat_a*mat_b # คูณตัวตำแหน่งเดียวกัน"
      ],
      "metadata": {
        "colab": {
          "base_uri": "https://localhost:8080/"
        },
        "id": "U3LBXcVQhTJk",
        "outputId": "a6c81bb4-3750-4bb4-d3fd-43f793aab96e"
      },
      "execution_count": null,
      "outputs": [
        {
          "output_type": "execute_result",
          "data": {
            "text/plain": [
              "array([[  2,   6,  25],\n",
              "       [  8,  20, -42]])"
            ]
          },
          "metadata": {},
          "execution_count": 75
        }
      ]
    },
    {
      "cell_type": "markdown",
      "source": [
        "### Matrix Slicing"
      ],
      "metadata": {
        "id": "pBJ8tUHLhwDi"
      }
    },
    {
      "cell_type": "code",
      "source": [
        "mat_X[:2,:2]"
      ],
      "metadata": {
        "id": "AwVS6CzTh2IV"
      },
      "execution_count": null,
      "outputs": []
    },
    {
      "cell_type": "markdown",
      "source": [
        "HW 3\n",
        "\n",
        "1. สร้าง array ที่เป็นรูป ต้น Christmas\n",
        "2. slice เลข 1 ออกมาจาก array HW3 ต้องการ slice แค่ครั้งเดียว"
      ],
      "metadata": {
        "id": "9z1uPmtni0Sd"
      }
    },
    {
      "cell_type": "code",
      "source": [
        "HW3 = np.zeros((10,10))\n",
        "HW3 "
      ],
      "metadata": {
        "colab": {
          "base_uri": "https://localhost:8080/"
        },
        "id": "cuI1cJjhi1-6",
        "outputId": "8a50a515-6e4a-40e0-8294-aeeaccae548d"
      },
      "execution_count": null,
      "outputs": [
        {
          "output_type": "execute_result",
          "data": {
            "text/plain": [
              "array([[0., 0., 0., 0., 0., 0., 0., 0., 0., 0.],\n",
              "       [0., 0., 0., 0., 0., 0., 0., 0., 0., 0.],\n",
              "       [0., 0., 0., 0., 0., 0., 0., 0., 0., 0.],\n",
              "       [0., 0., 0., 0., 0., 0., 0., 0., 0., 0.],\n",
              "       [0., 0., 0., 0., 0., 0., 0., 0., 0., 0.],\n",
              "       [0., 0., 0., 0., 0., 0., 0., 0., 0., 0.],\n",
              "       [0., 0., 0., 0., 0., 0., 0., 0., 0., 0.],\n",
              "       [0., 0., 0., 0., 0., 0., 0., 0., 0., 0.],\n",
              "       [0., 0., 0., 0., 0., 0., 0., 0., 0., 0.],\n",
              "       [0., 0., 0., 0., 0., 0., 0., 0., 0., 0.]])"
            ]
          },
          "metadata": {},
          "execution_count": 81
        }
      ]
    },
    {
      "cell_type": "code",
      "source": [
        "HW3[::4,2] = 1\n",
        "HW3[::4,4] = 1\n",
        "HW3[::4,6] = 1\n",
        "HW3[::4,8] = 1\n",
        "HW3"
      ],
      "metadata": {
        "colab": {
          "base_uri": "https://localhost:8080/"
        },
        "id": "KKWwOBgfkYh2",
        "outputId": "a355493f-4198-4b82-edb9-6ff40b2792c3"
      },
      "execution_count": null,
      "outputs": [
        {
          "output_type": "execute_result",
          "data": {
            "text/plain": [
              "array([[0., 0., 1., 0., 1., 0., 1., 0., 1., 0.],\n",
              "       [0., 0., 0., 0., 0., 0., 0., 0., 0., 0.],\n",
              "       [0., 0., 0., 0., 0., 0., 0., 0., 0., 0.],\n",
              "       [0., 0., 0., 0., 0., 0., 0., 0., 0., 0.],\n",
              "       [0., 0., 1., 0., 1., 0., 1., 0., 1., 0.],\n",
              "       [0., 0., 0., 0., 0., 0., 0., 0., 0., 0.],\n",
              "       [0., 0., 0., 0., 0., 0., 0., 0., 0., 0.],\n",
              "       [0., 0., 0., 0., 0., 0., 0., 0., 0., 0.],\n",
              "       [0., 0., 1., 0., 1., 0., 1., 0., 1., 0.],\n",
              "       [0., 0., 0., 0., 0., 0., 0., 0., 0., 0.]])"
            ]
          },
          "metadata": {},
          "execution_count": 82
        }
      ]
    },
    {
      "cell_type": "markdown",
      "source": [
        "HW ข้อ 1 สร้าง array ที่เป็นรูป ต้น Christmas"
      ],
      "metadata": {
        "id": "yMYkrutf6rxa"
      }
    },
    {
      "cell_type": "code",
      "source": [
        "import numpy as np"
      ],
      "metadata": {
        "id": "_SFl6KmG69gk"
      },
      "execution_count": 287,
      "outputs": []
    },
    {
      "cell_type": "code",
      "source": [
        "XMAS = np.zeros((20,13))"
      ],
      "metadata": {
        "id": "D4ZJXzr-7SdO"
      },
      "execution_count": 288,
      "outputs": []
    },
    {
      "cell_type": "code",
      "source": [
        "XMAS"
      ],
      "metadata": {
        "id": "VuUSaUO87tPj",
        "outputId": "1211e74d-6e07-483f-a80a-3caab6ec4887",
        "colab": {
          "base_uri": "https://localhost:8080/"
        }
      },
      "execution_count": 289,
      "outputs": [
        {
          "output_type": "execute_result",
          "data": {
            "text/plain": [
              "array([[0., 0., 0., 0., 0., 0., 0., 0., 0., 0., 0., 0., 0.],\n",
              "       [0., 0., 0., 0., 0., 0., 0., 0., 0., 0., 0., 0., 0.],\n",
              "       [0., 0., 0., 0., 0., 0., 0., 0., 0., 0., 0., 0., 0.],\n",
              "       [0., 0., 0., 0., 0., 0., 0., 0., 0., 0., 0., 0., 0.],\n",
              "       [0., 0., 0., 0., 0., 0., 0., 0., 0., 0., 0., 0., 0.],\n",
              "       [0., 0., 0., 0., 0., 0., 0., 0., 0., 0., 0., 0., 0.],\n",
              "       [0., 0., 0., 0., 0., 0., 0., 0., 0., 0., 0., 0., 0.],\n",
              "       [0., 0., 0., 0., 0., 0., 0., 0., 0., 0., 0., 0., 0.],\n",
              "       [0., 0., 0., 0., 0., 0., 0., 0., 0., 0., 0., 0., 0.],\n",
              "       [0., 0., 0., 0., 0., 0., 0., 0., 0., 0., 0., 0., 0.],\n",
              "       [0., 0., 0., 0., 0., 0., 0., 0., 0., 0., 0., 0., 0.],\n",
              "       [0., 0., 0., 0., 0., 0., 0., 0., 0., 0., 0., 0., 0.],\n",
              "       [0., 0., 0., 0., 0., 0., 0., 0., 0., 0., 0., 0., 0.],\n",
              "       [0., 0., 0., 0., 0., 0., 0., 0., 0., 0., 0., 0., 0.],\n",
              "       [0., 0., 0., 0., 0., 0., 0., 0., 0., 0., 0., 0., 0.],\n",
              "       [0., 0., 0., 0., 0., 0., 0., 0., 0., 0., 0., 0., 0.],\n",
              "       [0., 0., 0., 0., 0., 0., 0., 0., 0., 0., 0., 0., 0.],\n",
              "       [0., 0., 0., 0., 0., 0., 0., 0., 0., 0., 0., 0., 0.],\n",
              "       [0., 0., 0., 0., 0., 0., 0., 0., 0., 0., 0., 0., 0.],\n",
              "       [0., 0., 0., 0., 0., 0., 0., 0., 0., 0., 0., 0., 0.]])"
            ]
          },
          "metadata": {},
          "execution_count": 289
        }
      ]
    },
    {
      "cell_type": "code",
      "source": [
        "XMAS[1:2,6]=99\n",
        "XMAS[2,5:8]=44\n",
        "XMAS[3,4:9]=44\n",
        "XMAS[4,3:10]=44\n",
        "XMAS[5,4:9]=44\n",
        "XMAS[6,3:10]=44\n",
        "XMAS[7,2:11]=44\n",
        "XMAS[8,1:12]=44\n",
        "XMAS[9,4:9]=44\n",
        "XMAS[10,2:11]=44\n",
        "XMAS[11,1:12]=44\n",
        "XMAS[12,0:13]=44\n",
        "XMAS[13,5:8]=1\n",
        "XMAS[14,5:8]=1\n",
        "XMAS[15,5:8]=1\n",
        "XMAS[16,5:8]=1\n",
        "XMAS[17,5:8]=1\n",
        "XMAS[18,5:8]=1\n",
        "XMAS[19,5:8]=1\n",
        "XMAS"
      ],
      "metadata": {
        "id": "6bJp92F2kB1h",
        "outputId": "2726bc87-b30b-4ba6-9f61-31cb42781101",
        "colab": {
          "base_uri": "https://localhost:8080/"
        }
      },
      "execution_count": 290,
      "outputs": [
        {
          "output_type": "execute_result",
          "data": {
            "text/plain": [
              "array([[ 0.,  0.,  0.,  0.,  0.,  0.,  0.,  0.,  0.,  0.,  0.,  0.,  0.],\n",
              "       [ 0.,  0.,  0.,  0.,  0.,  0., 99.,  0.,  0.,  0.,  0.,  0.,  0.],\n",
              "       [ 0.,  0.,  0.,  0.,  0., 44., 44., 44.,  0.,  0.,  0.,  0.,  0.],\n",
              "       [ 0.,  0.,  0.,  0., 44., 44., 44., 44., 44.,  0.,  0.,  0.,  0.],\n",
              "       [ 0.,  0.,  0., 44., 44., 44., 44., 44., 44., 44.,  0.,  0.,  0.],\n",
              "       [ 0.,  0.,  0.,  0., 44., 44., 44., 44., 44.,  0.,  0.,  0.,  0.],\n",
              "       [ 0.,  0.,  0., 44., 44., 44., 44., 44., 44., 44.,  0.,  0.,  0.],\n",
              "       [ 0.,  0., 44., 44., 44., 44., 44., 44., 44., 44., 44.,  0.,  0.],\n",
              "       [ 0., 44., 44., 44., 44., 44., 44., 44., 44., 44., 44., 44.,  0.],\n",
              "       [ 0.,  0.,  0.,  0., 44., 44., 44., 44., 44.,  0.,  0.,  0.,  0.],\n",
              "       [ 0.,  0., 44., 44., 44., 44., 44., 44., 44., 44., 44.,  0.,  0.],\n",
              "       [ 0., 44., 44., 44., 44., 44., 44., 44., 44., 44., 44., 44.,  0.],\n",
              "       [44., 44., 44., 44., 44., 44., 44., 44., 44., 44., 44., 44., 44.],\n",
              "       [ 0.,  0.,  0.,  0.,  0.,  1.,  1.,  1.,  0.,  0.,  0.,  0.,  0.],\n",
              "       [ 0.,  0.,  0.,  0.,  0.,  1.,  1.,  1.,  0.,  0.,  0.,  0.,  0.],\n",
              "       [ 0.,  0.,  0.,  0.,  0.,  1.,  1.,  1.,  0.,  0.,  0.,  0.,  0.],\n",
              "       [ 0.,  0.,  0.,  0.,  0.,  1.,  1.,  1.,  0.,  0.,  0.,  0.,  0.],\n",
              "       [ 0.,  0.,  0.,  0.,  0.,  1.,  1.,  1.,  0.,  0.,  0.,  0.,  0.],\n",
              "       [ 0.,  0.,  0.,  0.,  0.,  1.,  1.,  1.,  0.,  0.,  0.,  0.,  0.],\n",
              "       [ 0.,  0.,  0.,  0.,  0.,  1.,  1.,  1.,  0.,  0.,  0.,  0.,  0.]])"
            ]
          },
          "metadata": {},
          "execution_count": 290
        }
      ]
    },
    {
      "cell_type": "markdown",
      "source": [
        "HW ข้อ 2 slice เลข 1 ออกมาจาก array HW3 ต้องการ slice แค่ครั้งเดียว"
      ],
      "metadata": {
        "id": "1x1Hm1Ha6xf2"
      }
    },
    {
      "cell_type": "code",
      "source": [
        "HW3 = np.zeros((10,10))\n",
        "HW3 "
      ],
      "metadata": {
        "id": "nUk_UKmkyNUW",
        "outputId": "44c89e32-4a5d-4a20-c79d-9966d090444f",
        "colab": {
          "base_uri": "https://localhost:8080/"
        }
      },
      "execution_count": 291,
      "outputs": [
        {
          "output_type": "execute_result",
          "data": {
            "text/plain": [
              "array([[0., 0., 0., 0., 0., 0., 0., 0., 0., 0.],\n",
              "       [0., 0., 0., 0., 0., 0., 0., 0., 0., 0.],\n",
              "       [0., 0., 0., 0., 0., 0., 0., 0., 0., 0.],\n",
              "       [0., 0., 0., 0., 0., 0., 0., 0., 0., 0.],\n",
              "       [0., 0., 0., 0., 0., 0., 0., 0., 0., 0.],\n",
              "       [0., 0., 0., 0., 0., 0., 0., 0., 0., 0.],\n",
              "       [0., 0., 0., 0., 0., 0., 0., 0., 0., 0.],\n",
              "       [0., 0., 0., 0., 0., 0., 0., 0., 0., 0.],\n",
              "       [0., 0., 0., 0., 0., 0., 0., 0., 0., 0.],\n",
              "       [0., 0., 0., 0., 0., 0., 0., 0., 0., 0.]])"
            ]
          },
          "metadata": {},
          "execution_count": 291
        }
      ]
    },
    {
      "cell_type": "code",
      "source": [
        "HW3[::4,2] = 1\n",
        "HW3[::4,4] = 1\n",
        "HW3[::4,6] = 1\n",
        "HW3[::4,8] = 1\n",
        "HW3"
      ],
      "metadata": {
        "id": "cEsdtuwszlOa",
        "outputId": "b32ecfed-3829-4808-d0d9-725a1b536b93",
        "colab": {
          "base_uri": "https://localhost:8080/"
        }
      },
      "execution_count": 292,
      "outputs": [
        {
          "output_type": "execute_result",
          "data": {
            "text/plain": [
              "array([[0., 0., 1., 0., 1., 0., 1., 0., 1., 0.],\n",
              "       [0., 0., 0., 0., 0., 0., 0., 0., 0., 0.],\n",
              "       [0., 0., 0., 0., 0., 0., 0., 0., 0., 0.],\n",
              "       [0., 0., 0., 0., 0., 0., 0., 0., 0., 0.],\n",
              "       [0., 0., 1., 0., 1., 0., 1., 0., 1., 0.],\n",
              "       [0., 0., 0., 0., 0., 0., 0., 0., 0., 0.],\n",
              "       [0., 0., 0., 0., 0., 0., 0., 0., 0., 0.],\n",
              "       [0., 0., 0., 0., 0., 0., 0., 0., 0., 0.],\n",
              "       [0., 0., 1., 0., 1., 0., 1., 0., 1., 0.],\n",
              "       [0., 0., 0., 0., 0., 0., 0., 0., 0., 0.]])"
            ]
          },
          "metadata": {},
          "execution_count": 292
        }
      ]
    },
    {
      "cell_type": "code",
      "source": [
        "HW3[::4,2::2]"
      ],
      "metadata": {
        "id": "A9XoUmYszqNh",
        "outputId": "d32ed8a3-e3d7-4c7d-965c-226c090ca8c3",
        "colab": {
          "base_uri": "https://localhost:8080/"
        }
      },
      "execution_count": 293,
      "outputs": [
        {
          "output_type": "execute_result",
          "data": {
            "text/plain": [
              "array([[1., 1., 1., 1.],\n",
              "       [1., 1., 1., 1.],\n",
              "       [1., 1., 1., 1.]])"
            ]
          },
          "metadata": {},
          "execution_count": 293
        }
      ]
    },
    {
      "cell_type": "markdown",
      "source": [
        "## Pandas Dataframe (แยกออกไปเป็น Notebook เฉพาะ)"
      ],
      "metadata": {
        "id": "2GHUqwKPRg_X"
      }
    },
    {
      "cell_type": "code",
      "source": [
        ""
      ],
      "metadata": {
        "id": "qV6d2vF3R6ow"
      },
      "execution_count": null,
      "outputs": []
    }
  ]
}