{
  "nbformat": 4,
  "nbformat_minor": 0,
  "metadata": {
    "colab": {
      "name": "ฺBasic Programming Concepts.ipynb",
      "provenance": [],
      "authorship_tag": "ABX9TyMR88OTbgZMLH2qswqijeYO",
      "include_colab_link": true
    },
    "kernelspec": {
      "name": "python3",
      "display_name": "Python 3"
    },
    "language_info": {
      "name": "python"
    }
  },
  "cells": [
    {
      "cell_type": "markdown",
      "metadata": {
        "id": "view-in-github",
        "colab_type": "text"
      },
      "source": [
        "<a href=\"https://colab.research.google.com/github/suwitchaya17/data_viz_2022/blob/main/%E0%B8%BABasic_Programming_Concepts.ipynb\" target=\"_parent\"><img src=\"https://colab.research.google.com/assets/colab-badge.svg\" alt=\"Open In Colab\"/></a>"
      ]
    },
    {
      "cell_type": "markdown",
      "source": [
        "# Function ($f(x) = y$)"
      ],
      "metadata": {
        "id": "GGMv3ZX_Dk-6"
      }
    },
    {
      "cell_type": "markdown",
      "source": [
        "```python\n",
        "def function_name(input_x):\n",
        "     # do something with input_x to get output_y\n",
        "     return output_y\n",
        "```"
      ],
      "metadata": {
        "id": "4H0Ha1JZEHpd"
      }
    },
    {
      "cell_type": "markdown",
      "source": [
        "$f_1(x)=x^2+75$"
      ],
      "metadata": {
        "id": "J4diI313FxIt"
      }
    },
    {
      "cell_type": "code",
      "source": [
        "def function_f1(x):\n",
        "    a=x**2                #input\n",
        "    y=a+75               #process\n",
        "    return y               #output\n",
        "\n",
        "print('done!')"
      ],
      "metadata": {
        "colab": {
          "base_uri": "https://localhost:8080/"
        },
        "id": "TOT7T6HSEBQc",
        "outputId": "505f1a1a-1984-43aa-c924-6a02bfc25513"
      },
      "execution_count": null,
      "outputs": [
        {
          "output_type": "stream",
          "name": "stdout",
          "text": [
            "done!\n"
          ]
        }
      ]
    },
    {
      "cell_type": "code",
      "source": [
        "function_f1(3)"
      ],
      "metadata": {
        "colab": {
          "base_uri": "https://localhost:8080/"
        },
        "id": "_4-Fe13CEBJh",
        "outputId": "e96ec493-a6e3-4e75-a622-d2d76c7b4c06"
      },
      "execution_count": null,
      "outputs": [
        {
          "output_type": "execute_result",
          "data": {
            "text/plain": [
              "84"
            ]
          },
          "metadata": {},
          "execution_count": 6
        }
      ]
    },
    {
      "cell_type": "markdown",
      "source": [
        "function มีส่วนสำคัญทั้งหมด 4 ส่วน\n",
        "\n",
        "1. บอก python ว่าเราจะเขียนฟังก์ชัน ชื่ออะไร `def function_name() : (ขาดไม่ได้)`\n",
        "2. กำหนดตัวแปรที่จะเป็น input *Input* (ขาดได้)\n",
        "3. ส่วนประมวณผล do_something with *Input* to get Output (ขาดไม่ได้)\n",
        "4. ส่วน output return *Output* (ขาดได้)"
      ],
      "metadata": {
        "id": "_ZDQ8qwaHMVo"
      }
    },
    {
      "cell_type": "markdown",
      "source": [
        "### ตัวอย่าง function ที่มีส่วนประกอบครบ"
      ],
      "metadata": {
        "id": "sHcH2YMhH74Q"
      }
    },
    {
      "cell_type": "code",
      "source": [
        "def function_f1(x):\n",
        "    a=x**2                \n",
        "    y=a+75               \n",
        "    return y"
      ],
      "metadata": {
        "id": "mFno-TNgEA7o"
      },
      "execution_count": null,
      "outputs": []
    },
    {
      "cell_type": "markdown",
      "source": [
        "### ตัวอย่าง function ที่ไม่มี input"
      ],
      "metadata": {
        "id": "XBcvrWjJIL_H"
      }
    },
    {
      "cell_type": "code",
      "source": [
        "def pi_v():\n",
        "    y=3.14159265359\n",
        "    return y"
      ],
      "metadata": {
        "id": "b2vB2_b7EAw1"
      },
      "execution_count": null,
      "outputs": []
    },
    {
      "cell_type": "code",
      "source": [
        "piv=pi_v()\n",
        "circle_area_r2=piv*(2**2)\n",
        "print(circle_area_r2)"
      ],
      "metadata": {
        "colab": {
          "base_uri": "https://localhost:8080/"
        },
        "id": "ju8GlbuIInQZ",
        "outputId": "54b72e35-d108-4e26-b00e-705a9a66a665"
      },
      "execution_count": null,
      "outputs": [
        {
          "output_type": "stream",
          "name": "stdout",
          "text": [
            "12.56637061436\n"
          ]
        }
      ]
    },
    {
      "cell_type": "markdown",
      "source": [
        "### Function ไม่มี process ไม่ได้"
      ],
      "metadata": {
        "id": "mRzyzQiFJLhk"
      }
    },
    {
      "cell_type": "code",
      "source": [
        "def function_a(:)"
      ],
      "metadata": {
        "colab": {
          "base_uri": "https://localhost:8080/",
          "height": 131
        },
        "id": "LmWneu_eEAep",
        "outputId": "0182f1ce-638e-498f-8f92-d802e6d278a0"
      },
      "execution_count": null,
      "outputs": [
        {
          "output_type": "error",
          "ename": "SyntaxError",
          "evalue": "ignored",
          "traceback": [
            "\u001b[0;36m  File \u001b[0;32m\"<ipython-input-12-da34f8ca02d5>\"\u001b[0;36m, line \u001b[0;32m1\u001b[0m\n\u001b[0;31m    def function_a(:)\u001b[0m\n\u001b[0m                   ^\u001b[0m\n\u001b[0;31mSyntaxError\u001b[0m\u001b[0;31m:\u001b[0m invalid syntax\n"
          ]
        }
      ]
    },
    {
      "cell_type": "markdown",
      "source": [
        "ตัวอย่าง Function ที่ไม่มี output"
      ],
      "metadata": {
        "id": "hG1A8ShpJZa2"
      }
    },
    {
      "cell_type": "code",
      "source": [
        "def print_name_id(name,id):\n",
        "    print(f'ชื่อ {name} รหัสประจำตัว {id}')"
      ],
      "metadata": {
        "id": "Mlrq3aTsJenx"
      },
      "execution_count": null,
      "outputs": []
    },
    {
      "cell_type": "code",
      "source": [
        "print_name_id('สุวิชญา','623020455-5')"
      ],
      "metadata": {
        "colab": {
          "base_uri": "https://localhost:8080/"
        },
        "id": "sCzDf5oCJ1V8",
        "outputId": "5b80786f-123e-449c-c6bf-80b1bb913172"
      },
      "execution_count": null,
      "outputs": [
        {
          "output_type": "stream",
          "name": "stdout",
          "text": [
            "ชื่อ สุวิชญา รหัสประจำตัว 623020455-5\n"
          ]
        }
      ]
    },
    {
      "cell_type": "code",
      "source": [
        "a=print_name_id('สุวิชญา','623020455-5')"
      ],
      "metadata": {
        "colab": {
          "base_uri": "https://localhost:8080/"
        },
        "id": "1-m3yXiLKfPL",
        "outputId": "7955f763-95a4-42c0-acaf-0c333458c664"
      },
      "execution_count": null,
      "outputs": [
        {
          "output_type": "stream",
          "name": "stdout",
          "text": [
            "ชื่อ สุวิชญา รหัสประจำตัว 623020455-5\n"
          ]
        }
      ]
    },
    {
      "cell_type": "code",
      "source": [
        "a"
      ],
      "metadata": {
        "id": "CJ_g-T2bLPGb"
      },
      "execution_count": null,
      "outputs": []
    },
    {
      "cell_type": "markdown",
      "source": [
        "[ข้อความลิงก์](https://)ตัวอย่าง function `print` https://www.programiz.com/python-programming/methods/built-in/print"
      ],
      "metadata": {
        "id": "daZ-t3-kOuxk"
      }
    },
    {
      "cell_type": "code",
      "source": [
        "print('สุวิชญา',end=' -> ')\n",
        "print('623020455-5')"
      ],
      "metadata": {
        "colab": {
          "base_uri": "https://localhost:8080/"
        },
        "id": "FiyzmyriO3P-",
        "outputId": "a7e24fe1-9ebc-43c7-cb5f-ed780562cf05"
      },
      "execution_count": null,
      "outputs": [
        {
          "output_type": "stream",
          "name": "stdout",
          "text": [
            "สุวิชญา -> 623020455-5\n"
          ]
        }
      ]
    },
    {
      "cell_type": "code",
      "source": [
        "print('สุวิชญา','623020455-5')"
      ],
      "metadata": {
        "colab": {
          "base_uri": "https://localhost:8080/"
        },
        "id": "NFW05uu-POWz",
        "outputId": "3d059010-66d2-4499-8154-ccdbfb698c87"
      },
      "execution_count": null,
      "outputs": [
        {
          "output_type": "stream",
          "name": "stdout",
          "text": [
            "สุวิชญา 623020455-5\n"
          ]
        }
      ]
    },
    {
      "cell_type": "code",
      "source": [
        "print('สุวิชญา','623020455-5',sep=' & ')"
      ],
      "metadata": {
        "colab": {
          "base_uri": "https://localhost:8080/"
        },
        "id": "Mwv1kWPlPjzM",
        "outputId": "a4f6fd4a-ec58-4cf7-8b99-b7adc5741333"
      },
      "execution_count": null,
      "outputs": [
        {
          "output_type": "stream",
          "name": "stdout",
          "text": [
            "สุวิชญา & 623020455-5\n"
          ]
        }
      ]
    },
    {
      "cell_type": "markdown",
      "source": [
        "## input ของ finction แบ่งเป็น 2 ชนิด (จำเป็นต้องใส่ กับ ไม่จำเป็นต้องใส่)"
      ],
      "metadata": {
        "id": "Htixb5xRQDKq"
      }
    },
    {
      "cell_type": "markdown",
      "source": [
        "ตัวอย่าง function `print_grade()`มี input 3 ตัว จำเป็นต้องใส่ 2 ตัว คือ name กับ id และไม่จำเป็นต้องใส่ 1 ตัว คือเกรด ซึ่งมีค่า default เป็น F"
      ],
      "metadata": {
        "id": "mVJvneBARBTv"
      }
    },
    {
      "cell_type": "code",
      "source": [
        "def print_grade(name,id,grade = 'F'):\n",
        "    print(f' รหัสประจำตัว {id} ชื่อ {name} ')\n",
        "    print(f' ได้เกรด {grade} ')"
      ],
      "metadata": {
        "id": "0ba_5QW_QMrk"
      },
      "execution_count": null,
      "outputs": []
    },
    {
      "cell_type": "code",
      "source": [
        "print_grade('นางสาวสุวิชญา ก้องเวหา', '623020455-5','A')"
      ],
      "metadata": {
        "colab": {
          "base_uri": "https://localhost:8080/"
        },
        "id": "ReBFDLG1Rpnb",
        "outputId": "92f0e54d-89a1-4528-826d-04dd695b8faa"
      },
      "execution_count": null,
      "outputs": [
        {
          "output_type": "stream",
          "name": "stdout",
          "text": [
            " รหัสประจำตัว 623020455-5 ชื่อ นางสาวสุวิชญา ก้องเวหา \n",
            " ได้เกรด A \n"
          ]
        }
      ]
    },
    {
      "cell_type": "code",
      "source": [
        "print_grade(id = '623020455-5',name = 'นางสาวสุวิชญา ก้องเวหา',grade='B+')"
      ],
      "metadata": {
        "colab": {
          "base_uri": "https://localhost:8080/"
        },
        "id": "d-ukNrURR3AW",
        "outputId": "c9740c85-3ea2-46e7-f03f-75f17dcbb1e6"
      },
      "execution_count": null,
      "outputs": [
        {
          "output_type": "stream",
          "name": "stdout",
          "text": [
            " รหัสประจำตัว 623020455-5 ชื่อ นางสาวสุวิชญา ก้องเวหา \n",
            " ได้เกรด B+ \n"
          ]
        }
      ]
    },
    {
      "cell_type": "markdown",
      "source": [
        "# Looping (for)"
      ],
      "metadata": {
        "id": "Xd6xFTIrDzgA"
      }
    },
    {
      "cell_type": "markdown",
      "source": [
        "# Conditional Statement (if)"
      ],
      "metadata": {
        "id": "6inwvlgJD4XA"
      }
    },
    {
      "cell_type": "code",
      "execution_count": null,
      "metadata": {
        "id": "Dib6JzWyDcZo"
      },
      "outputs": [],
      "source": [
        ""
      ]
    }
  ]
}