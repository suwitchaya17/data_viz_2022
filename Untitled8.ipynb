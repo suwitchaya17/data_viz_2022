{
  "nbformat": 4,
  "nbformat_minor": 0,
  "metadata": {
    "colab": {
      "name": "Untitled8.ipynb",
      "provenance": [],
      "toc_visible": true,
      "authorship_tag": "ABX9TyP54VUuRFoJOsd4JP4oT2ZP",
      "include_colab_link": true
    },
    "kernelspec": {
      "name": "python3",
      "display_name": "Python 3"
    },
    "language_info": {
      "name": "python"
    }
  },
  "cells": [
    {
      "cell_type": "markdown",
      "metadata": {
        "id": "view-in-github",
        "colab_type": "text"
      },
      "source": [
        "<a href=\"https://colab.research.google.com/github/suwitchaya17/data_viz_2022/blob/main/Untitled8.ipynb\" target=\"_parent\"><img src=\"https://colab.research.google.com/assets/colab-badge.svg\" alt=\"Open In Colab\"/></a>"
      ]
    },
    {
      "cell_type": "markdown",
      "source": [
        "#เตรียมข้อมูล"
      ],
      "metadata": {
        "id": "ZTKatQdyEBHH"
      }
    },
    {
      "cell_type": "code",
      "source": [
        "import pandas as pd  #ทำงานกับข้อมูลลักษณะตาราง\n",
        "import os  #จัดการไฟล์และ path"
      ],
      "metadata": {
        "id": "fsetXtVWFVji"
      },
      "execution_count": 1,
      "outputs": []
    },
    {
      "cell_type": "code",
      "source": [
        "from google.colab import drive  #เชื่อม google drive\n",
        "drive.mount('/content/drive')\n",
        "path = '/content/drive/My Drive/covid_data'   #pathจะชี้ไปยังโฟล์เดอร์"
      ],
      "metadata": {
        "colab": {
          "base_uri": "https://localhost:8080/"
        },
        "id": "uLuMwDMCFXlW",
        "outputId": "06d565ec-a309-41ef-c885-e21f5c65c560"
      },
      "execution_count": 2,
      "outputs": [
        {
          "output_type": "stream",
          "name": "stdout",
          "text": [
            "Mounted at /content/drive\n"
          ]
        }
      ]
    },
    {
      "cell_type": "markdown",
      "source": [
        "## Data Covid"
      ],
      "metadata": {
        "id": "yf7zmy07CzCm"
      }
    },
    {
      "cell_type": "markdown",
      "source": [
        "ต้องการข้อมูลของวันที่ 17 ธันวาคม 2021 - 11 มีนาคม 2022"
      ],
      "metadata": {
        "id": "ZfE07mTFT0-j"
      }
    },
    {
      "cell_type": "code",
      "source": [
        "data1 = os.path.join(path,'confirmed-cases-since-120864.xlsx') #แล้วก็ชี้ไปที่ไฟล์\n",
        "data1"
      ],
      "metadata": {
        "id": "YM9PWAVyEI5-"
      },
      "execution_count": null,
      "outputs": []
    },
    {
      "cell_type": "code",
      "source": [
        "data_covid2 = pd.read_excel(data_file_path2)  #กำหนดตัวแปร data_covid เป็นข้อมูลของผู้ป่วยโควิด\n",
        "data_covid2  #เรียกดูตารางของผู้ป่วยโควิด"
      ],
      "metadata": {
        "id": "0-Y_4jaBTpRN"
      },
      "execution_count": null,
      "outputs": []
    },
    {
      "cell_type": "markdown",
      "source": [
        "##Data ภูมิภาค"
      ],
      "metadata": {
        "id": "tZvESjyyC1FF"
      }
    },
    {
      "cell_type": "markdown",
      "source": [
        "## Data รายชื่อหน่วยงานที่เข้าร่วมโครงการหมอพร้อม"
      ],
      "metadata": {
        "id": "02I_muR3C1qU"
      }
    }
  ]
}